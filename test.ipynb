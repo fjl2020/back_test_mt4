{
 "cells": [
  {
   "cell_type": "code",
   "execution_count": 1,
   "metadata": {},
   "outputs": [],
   "source": [
    "import streamlit as st\n",
    "from datetime import datetime as dt\n",
    "import pandas as pd\n",
    "from bs4 import BeautifulSoup\n",
    "import polars as pl\n",
    "import file_service as fscv\n",
    "import matplotlib.pyplot as plt\n",
    "import matplotlib\n",
    "import plotly.express as px\n",
    "from plotly.subplots import make_subplots\n",
    "from plotly.graph_objs import Line,Bar,Scatter,Layout,Figure"
   ]
  },
  {
   "cell_type": "code",
   "execution_count": 2,
   "metadata": {},
   "outputs": [
    {
     "data": {
      "text/html": [
       "<div><style>\n",
       ".dataframe > thead > tr,\n",
       ".dataframe > tbody > tr {\n",
       "  text-align: right;\n",
       "  white-space: pre-wrap;\n",
       "}\n",
       "</style>\n",
       "<small>shape: (5, 14)</small><table border=\"1\" class=\"dataframe\"><thead><tr><th>OpenTime</th><th>CloseTime</th><th>OpenPrice</th><th>ClosePrice</th><th>Type</th><th>Nb Order</th><th>Volume</th><th>SL</th><th>TP</th><th>Profit</th><th>Balance</th><th>Drawdown</th><th>Drawdown_pct</th><th>Type_sample</th></tr><tr><td>datetime[ms]</td><td>datetime[ms]</td><td>f64</td><td>f64</td><td>str</td><td>str</td><td>f64</td><td>f64</td><td>f64</td><td>f64</td><td>f64</td><td>f64</td><td>f64</td><td>str</td></tr></thead><tbody><tr><td>2020-10-05 00:00:00</td><td>2020-10-05 04:00:00</td><td>0.95301</td><td>0.95391</td><td>&quot;buy&quot;</td><td>&quot;1&quot;</td><td>0.1</td><td>0.0</td><td>0.0</td><td>6.46</td><td>10006.46</td><td>0.0</td><td>0.0</td><td>&quot;IS&quot;</td></tr><tr><td>2020-10-06 16:00:00</td><td>2020-10-06 20:00:00</td><td>0.95017</td><td>0.94961</td><td>&quot;buy&quot;</td><td>&quot;2&quot;</td><td>0.1</td><td>0.0</td><td>0.0</td><td>-4.03</td><td>10002.43</td><td>4.03</td><td>-0.000403</td><td>&quot;IS&quot;</td></tr><tr><td>2020-10-08 04:00:00</td><td>2020-10-08 08:00:00</td><td>0.94555</td><td>0.94689</td><td>&quot;buy&quot;</td><td>&quot;3&quot;</td><td>0.1</td><td>0.0</td><td>0.0</td><td>9.62</td><td>10012.05</td><td>0.0</td><td>0.0</td><td>&quot;IS&quot;</td></tr><tr><td>2020-10-08 08:00:00</td><td>2020-10-08 12:00:00</td><td>0.94714</td><td>0.94846</td><td>&quot;buy&quot;</td><td>&quot;4&quot;</td><td>0.1</td><td>0.0</td><td>0.0</td><td>9.48</td><td>10021.53</td><td>0.0</td><td>0.0</td><td>&quot;IS&quot;</td></tr><tr><td>2020-10-09 00:00:00</td><td>2020-10-09 04:00:00</td><td>0.94598</td><td>0.94602</td><td>&quot;buy&quot;</td><td>&quot;5&quot;</td><td>0.1</td><td>0.0</td><td>0.0</td><td>0.28</td><td>10021.81</td><td>0.0</td><td>0.0</td><td>&quot;IS&quot;</td></tr></tbody></table></div>"
      ],
      "text/plain": [
       "shape: (5, 14)\n",
       "┌────────────┬───────────┬───────────┬───────────┬───┬──────────┬──────────┬───────────┬───────────┐\n",
       "│ OpenTime   ┆ CloseTime ┆ OpenPrice ┆ ClosePric ┆ … ┆ Balance  ┆ Drawdown ┆ Drawdown_ ┆ Type_samp │\n",
       "│ ---        ┆ ---       ┆ ---       ┆ e         ┆   ┆ ---      ┆ ---      ┆ pct       ┆ le        │\n",
       "│ datetime[m ┆ datetime[ ┆ f64       ┆ ---       ┆   ┆ f64      ┆ f64      ┆ ---       ┆ ---       │\n",
       "│ s]         ┆ ms]       ┆           ┆ f64       ┆   ┆          ┆          ┆ f64       ┆ str       │\n",
       "╞════════════╪═══════════╪═══════════╪═══════════╪═══╪══════════╪══════════╪═══════════╪═══════════╡\n",
       "│ 2020-10-05 ┆ 2020-10-0 ┆ 0.95301   ┆ 0.95391   ┆ … ┆ 10006.46 ┆ 0.0      ┆ 0.0       ┆ IS        │\n",
       "│ 00:00:00   ┆ 5         ┆           ┆           ┆   ┆          ┆          ┆           ┆           │\n",
       "│            ┆ 04:00:00  ┆           ┆           ┆   ┆          ┆          ┆           ┆           │\n",
       "│ 2020-10-06 ┆ 2020-10-0 ┆ 0.95017   ┆ 0.94961   ┆ … ┆ 10002.43 ┆ 4.03     ┆ -0.000403 ┆ IS        │\n",
       "│ 16:00:00   ┆ 6         ┆           ┆           ┆   ┆          ┆          ┆           ┆           │\n",
       "│            ┆ 20:00:00  ┆           ┆           ┆   ┆          ┆          ┆           ┆           │\n",
       "│ 2020-10-08 ┆ 2020-10-0 ┆ 0.94555   ┆ 0.94689   ┆ … ┆ 10012.05 ┆ 0.0      ┆ 0.0       ┆ IS        │\n",
       "│ 04:00:00   ┆ 8         ┆           ┆           ┆   ┆          ┆          ┆           ┆           │\n",
       "│            ┆ 08:00:00  ┆           ┆           ┆   ┆          ┆          ┆           ┆           │\n",
       "│ 2020-10-08 ┆ 2020-10-0 ┆ 0.94714   ┆ 0.94846   ┆ … ┆ 10021.53 ┆ 0.0      ┆ 0.0       ┆ IS        │\n",
       "│ 08:00:00   ┆ 8         ┆           ┆           ┆   ┆          ┆          ┆           ┆           │\n",
       "│            ┆ 12:00:00  ┆           ┆           ┆   ┆          ┆          ┆           ┆           │\n",
       "│ 2020-10-09 ┆ 2020-10-0 ┆ 0.94598   ┆ 0.94602   ┆ … ┆ 10021.81 ┆ 0.0      ┆ 0.0       ┆ IS        │\n",
       "│ 00:00:00   ┆ 9         ┆           ┆           ┆   ┆          ┆          ┆           ┆           │\n",
       "│            ┆ 04:00:00  ┆           ┆           ┆   ┆          ┆          ┆           ┆           │\n",
       "└────────────┴───────────┴───────────┴───────────┴───┴──────────┴──────────┴───────────┴───────────┘"
      ]
     },
     "execution_count": 2,
     "metadata": {},
     "output_type": "execute_result"
    }
   ],
   "source": [
    "fileOpen = \"D:/01_VTALGO_ROUTE/02_tareas/02 Ecosistema 1/Data_Test/20241105 EURUSD/weka/StrategyTester_3245_oos.htm\"\n",
    "fileOpen = \"D:/01_VTALGO_ROUTE/02_tareas/02 Ecosistema 1/Data_Test/20241102 AUDCAD 4H/resultados/StrategyTester_2324.htm\"\n",
    "df= fscv.load_file(fileOpen)\n",
    "data=df\n",
    "# columns= data[0]\n",
    "\n",
    "\n",
    "df.head()"
   ]
  },
  {
   "cell_type": "code",
   "execution_count": 8,
   "metadata": {},
   "outputs": [
    {
     "data": {
      "text/html": [
       "<div><style>\n",
       ".dataframe > thead > tr,\n",
       ".dataframe > tbody > tr {\n",
       "  text-align: right;\n",
       "  white-space: pre-wrap;\n",
       "}\n",
       "</style>\n",
       "<small>shape: (5, 14)</small><table border=\"1\" class=\"dataframe\"><thead><tr><th>OpenTime</th><th>CloseTime</th><th>OpenPrice</th><th>ClosePrice</th><th>Type</th><th>Nb Order</th><th>Volume</th><th>SL</th><th>TP</th><th>Profit</th><th>Balance</th><th>Drawdown</th><th>Drawdown_pct</th><th>Type_sample</th></tr><tr><td>datetime[ms]</td><td>datetime[ms]</td><td>f64</td><td>f64</td><td>str</td><td>str</td><td>f64</td><td>f64</td><td>f64</td><td>f64</td><td>f64</td><td>f64</td><td>f64</td><td>str</td></tr></thead><tbody><tr><td>2020-10-05 00:00:00</td><td>2020-10-05 04:00:00</td><td>0.95301</td><td>0.95391</td><td>&quot;buy&quot;</td><td>&quot;1&quot;</td><td>0.1</td><td>0.0</td><td>0.0</td><td>6.46</td><td>10006.46</td><td>0.0</td><td>0.0</td><td>&quot;IS&quot;</td></tr><tr><td>2020-10-06 16:00:00</td><td>2020-10-06 20:00:00</td><td>0.95017</td><td>0.94961</td><td>&quot;buy&quot;</td><td>&quot;2&quot;</td><td>0.1</td><td>0.0</td><td>0.0</td><td>-4.03</td><td>10002.43</td><td>4.03</td><td>-0.000403</td><td>&quot;IS&quot;</td></tr><tr><td>2020-10-08 04:00:00</td><td>2020-10-08 08:00:00</td><td>0.94555</td><td>0.94689</td><td>&quot;buy&quot;</td><td>&quot;3&quot;</td><td>0.1</td><td>0.0</td><td>0.0</td><td>9.62</td><td>10012.05</td><td>0.0</td><td>0.0</td><td>&quot;IS&quot;</td></tr><tr><td>2020-10-08 08:00:00</td><td>2020-10-08 12:00:00</td><td>0.94714</td><td>0.94846</td><td>&quot;buy&quot;</td><td>&quot;4&quot;</td><td>0.1</td><td>0.0</td><td>0.0</td><td>9.48</td><td>10021.53</td><td>0.0</td><td>0.0</td><td>&quot;IS&quot;</td></tr><tr><td>2020-10-09 00:00:00</td><td>2020-10-09 04:00:00</td><td>0.94598</td><td>0.94602</td><td>&quot;buy&quot;</td><td>&quot;5&quot;</td><td>0.1</td><td>0.0</td><td>0.0</td><td>0.28</td><td>10021.81</td><td>0.0</td><td>0.0</td><td>&quot;IS&quot;</td></tr></tbody></table></div>"
      ],
      "text/plain": [
       "shape: (5, 14)\n",
       "┌────────────┬───────────┬───────────┬───────────┬───┬──────────┬──────────┬───────────┬───────────┐\n",
       "│ OpenTime   ┆ CloseTime ┆ OpenPrice ┆ ClosePric ┆ … ┆ Balance  ┆ Drawdown ┆ Drawdown_ ┆ Type_samp │\n",
       "│ ---        ┆ ---       ┆ ---       ┆ e         ┆   ┆ ---      ┆ ---      ┆ pct       ┆ le        │\n",
       "│ datetime[m ┆ datetime[ ┆ f64       ┆ ---       ┆   ┆ f64      ┆ f64      ┆ ---       ┆ ---       │\n",
       "│ s]         ┆ ms]       ┆           ┆ f64       ┆   ┆          ┆          ┆ f64       ┆ str       │\n",
       "╞════════════╪═══════════╪═══════════╪═══════════╪═══╪══════════╪══════════╪═══════════╪═══════════╡\n",
       "│ 2020-10-05 ┆ 2020-10-0 ┆ 0.95301   ┆ 0.95391   ┆ … ┆ 10006.46 ┆ 0.0      ┆ 0.0       ┆ IS        │\n",
       "│ 00:00:00   ┆ 5         ┆           ┆           ┆   ┆          ┆          ┆           ┆           │\n",
       "│            ┆ 04:00:00  ┆           ┆           ┆   ┆          ┆          ┆           ┆           │\n",
       "│ 2020-10-06 ┆ 2020-10-0 ┆ 0.95017   ┆ 0.94961   ┆ … ┆ 10002.43 ┆ 4.03     ┆ -0.000403 ┆ IS        │\n",
       "│ 16:00:00   ┆ 6         ┆           ┆           ┆   ┆          ┆          ┆           ┆           │\n",
       "│            ┆ 20:00:00  ┆           ┆           ┆   ┆          ┆          ┆           ┆           │\n",
       "│ 2020-10-08 ┆ 2020-10-0 ┆ 0.94555   ┆ 0.94689   ┆ … ┆ 10012.05 ┆ 0.0      ┆ 0.0       ┆ IS        │\n",
       "│ 04:00:00   ┆ 8         ┆           ┆           ┆   ┆          ┆          ┆           ┆           │\n",
       "│            ┆ 08:00:00  ┆           ┆           ┆   ┆          ┆          ┆           ┆           │\n",
       "│ 2020-10-08 ┆ 2020-10-0 ┆ 0.94714   ┆ 0.94846   ┆ … ┆ 10021.53 ┆ 0.0      ┆ 0.0       ┆ IS        │\n",
       "│ 08:00:00   ┆ 8         ┆           ┆           ┆   ┆          ┆          ┆           ┆           │\n",
       "│            ┆ 12:00:00  ┆           ┆           ┆   ┆          ┆          ┆           ┆           │\n",
       "│ 2020-10-09 ┆ 2020-10-0 ┆ 0.94598   ┆ 0.94602   ┆ … ┆ 10021.81 ┆ 0.0      ┆ 0.0       ┆ IS        │\n",
       "│ 00:00:00   ┆ 9         ┆           ┆           ┆   ┆          ┆          ┆           ┆           │\n",
       "│            ┆ 04:00:00  ┆           ┆           ┆   ┆          ┆          ┆           ┆           │\n",
       "└────────────┴───────────┴───────────┴───────────┴───┴──────────┴──────────┴───────────┴───────────┘"
      ]
     },
     "execution_count": 8,
     "metadata": {},
     "output_type": "execute_result"
    }
   ],
   "source": [
    "# start_date_oos=dt(2020,10,8)\n",
    "# end_date_oos=dt(2020,10,30)\n",
    "\n",
    "# df.with_columns(pl.when((pl.col('OpenTime')>=start_date_oos) & (pl.col('OpenTime')<=end_date_oos))\n",
    "#                 .then(pl.lit(\"OS\")).otherwise(pl.lit(\"IS\")).alias(\"Type_sample\"))\n",
    "df.head()"
   ]
  },
  {
   "cell_type": "code",
   "execution_count": 116,
   "metadata": {},
   "outputs": [],
   "source": [
    "def fig_main_drawdown(df,\n",
    "                      start_date=dt.now(),\n",
    "                      end_date=dt.now(),\n",
    "                      start_date_oos=dt.now(),\n",
    "                      end_date_oos=dt.now(),\n",
    "                      symbol='')->Figure:\n",
    "\n",
    "    df_start_date= df['OpenTime'][0]\n",
    "    df_end_date= df['CloseTime'][-1]\n",
    "    \n",
    "    if (start_date>df_start_date):\n",
    "        print('true')\n",
    "        df=df.filter((pl.col('OpenTime')>=start_date) )\n",
    "    if (end_date<df_end_date):\n",
    "        print('true')\n",
    "        df=df.filter((pl.col('CloseTime')<=end_date))\n",
    "    \n",
    "    fig = make_subplots(rows=2, cols=1,shared_xaxes=True,subplot_titles=(\"Return\", \"Drawdown\"))\n",
    "    \n",
    "    figure0 = Scatter(x=df['CloseTime'], y=df['Balance'],\n",
    "                line = dict(color='#3E7CFE'),\n",
    "                name=\"Close Price\"\n",
    "                \n",
    "                )\n",
    "    \n",
    "    # df_temp = df.reset_index()\n",
    " \n",
    "    \n",
    "    mean_drawdown=0\n",
    "    max_close = df['Balance'].max()\n",
    "    min_close = df['Balance'].min()\n",
    "    df_tmp =    df.filter((pl.col('OpenTime')>=start_date_oos) & (pl.col('CloseTime')<=end_date_oos))\n",
    "    figure0B = Scatter(x=df_tmp['CloseTime'], y = [max_close for _ in range(df_tmp.shape[0]) ],\n",
    "                                line = dict(color='rgba(0,0,0,0)'),\n",
    "                                # fill='tonexty', \n",
    "                                fill='tozeroy', \n",
    "                                fillcolor =' rgba(114, 161, 144,0.5)',\n",
    "                                name=\"OOS\")\n",
    "    # figure0A = Scatter(x=df_tmp['CloseTime'], y = [min_close for _ in range(df_tmp.shape[0])])\n",
    "\n",
    "\n",
    "    fig.add_trace(figure0B,row=1, col=1)\n",
    "    fig.add_trace(figure0,row=1, col=1,)\n",
    "    # fig.add_trace(figure0A,row=1, col=1)\n",
    "    delta=(max_close-min_close)*.2\n",
    "    fig.update_yaxes(range=[min_close-(delta),max_close+delta],row=1, col=1)\n",
    "\n",
    "    figure2 = Scatter(x=df['CloseTime'], y = df['Drawdown_pct'],\n",
    "                                line = dict(color='rgba(230, 30, 30,1)'),\n",
    "                                fill='tozeroy', \n",
    "                                fillcolor = 'rgba(219, 66, 66,0.8)',name=\"Drawdown\")\n",
    "    figure1 = Scatter(x=df['CloseTime'], y = [mean_drawdown for _ in range(df.shape[0])],\n",
    "                                line = dict(color='#FF003E',dash = 'dash'),name = \"Mean dr\")\n",
    "\n",
    "    fig.add_trace(figure1, row=2, col=1)\n",
    "    \n",
    "    fig.add_trace(figure2, row=2, col=1)\n",
    "    # fig.update_yaxes(range=[df['drawdown'].min()*1.4,0], row=2, col=1)\n",
    "    fig.update_layout(height=800,title=f\"{symbol} - Monthly performance\")\n",
    "    return fig"
   ]
  },
  {
   "cell_type": "code",
   "execution_count": 118,
   "metadata": {},
   "outputs": [
    {
     "name": "stdout",
     "output_type": "stream",
     "text": [
      "true\n",
      "true\n"
     ]
    }
   ],
   "source": [
    "fig = fig_main_drawdown(df,dt(2022,10,8),dt(2024,1,1),dt(2023,12,1),dt(2024,10,20))\n",
    "\n",
    "fig.write_html('first_figure.html', auto_open=True)"
   ]
  },
  {
   "cell_type": "code",
   "execution_count": null,
   "metadata": {},
   "outputs": [
    {
     "data": {
      "text/html": [
       "<div><style>\n",
       ".dataframe > thead > tr,\n",
       ".dataframe > tbody > tr {\n",
       "  text-align: right;\n",
       "  white-space: pre-wrap;\n",
       "}\n",
       "</style>\n",
       "<small>shape: (5, 14)</small><table border=\"1\" class=\"dataframe\"><thead><tr><th>OpenTime</th><th>CloseTime</th><th>OpenPrice</th><th>ClosePrice</th><th>Type</th><th>Nb Order</th><th>Volume</th><th>SL</th><th>TP</th><th>Profit</th><th>Balance</th><th>Drawdown</th><th>Drawdown_pct</th><th>Type_sample</th></tr><tr><td>datetime[ms]</td><td>datetime[ms]</td><td>f64</td><td>f64</td><td>str</td><td>str</td><td>f64</td><td>f64</td><td>f64</td><td>f64</td><td>f64</td><td>f64</td><td>f64</td><td>str</td></tr></thead><tbody><tr><td>2020-10-08 04:00:00</td><td>2020-10-08 08:00:00</td><td>0.94555</td><td>0.94689</td><td>&quot;buy&quot;</td><td>&quot;3&quot;</td><td>0.1</td><td>0.0</td><td>0.0</td><td>9.62</td><td>10012.05</td><td>0.0</td><td>0.0</td><td>&quot;IS&quot;</td></tr><tr><td>2020-10-08 08:00:00</td><td>2020-10-08 12:00:00</td><td>0.94714</td><td>0.94846</td><td>&quot;buy&quot;</td><td>&quot;4&quot;</td><td>0.1</td><td>0.0</td><td>0.0</td><td>9.48</td><td>10021.53</td><td>0.0</td><td>0.0</td><td>&quot;IS&quot;</td></tr><tr><td>2020-10-09 00:00:00</td><td>2020-10-09 04:00:00</td><td>0.94598</td><td>0.94602</td><td>&quot;buy&quot;</td><td>&quot;5&quot;</td><td>0.1</td><td>0.0</td><td>0.0</td><td>0.28</td><td>10021.81</td><td>0.0</td><td>0.0</td><td>&quot;IS&quot;</td></tr><tr><td>2020-10-12 00:00:00</td><td>2020-10-12 04:00:00</td><td>0.94914</td><td>0.94825</td><td>&quot;buy&quot;</td><td>&quot;6&quot;</td><td>0.1</td><td>0.0</td><td>0.0</td><td>-6.4</td><td>10015.41</td><td>6.4</td><td>-0.000639</td><td>&quot;IS&quot;</td></tr><tr><td>2020-10-14 00:00:00</td><td>2020-10-14 04:00:00</td><td>0.94076</td><td>0.94181</td><td>&quot;buy&quot;</td><td>&quot;7&quot;</td><td>0.1</td><td>0.0</td><td>0.0</td><td>7.54</td><td>10022.95</td><td>0.0</td><td>0.0</td><td>&quot;IS&quot;</td></tr></tbody></table></div>"
      ],
      "text/plain": [
       "shape: (5, 14)\n",
       "┌────────────┬───────────┬───────────┬───────────┬───┬──────────┬──────────┬───────────┬───────────┐\n",
       "│ OpenTime   ┆ CloseTime ┆ OpenPrice ┆ ClosePric ┆ … ┆ Balance  ┆ Drawdown ┆ Drawdown_ ┆ Type_samp │\n",
       "│ ---        ┆ ---       ┆ ---       ┆ e         ┆   ┆ ---      ┆ ---      ┆ pct       ┆ le        │\n",
       "│ datetime[m ┆ datetime[ ┆ f64       ┆ ---       ┆   ┆ f64      ┆ f64      ┆ ---       ┆ ---       │\n",
       "│ s]         ┆ ms]       ┆           ┆ f64       ┆   ┆          ┆          ┆ f64       ┆ str       │\n",
       "╞════════════╪═══════════╪═══════════╪═══════════╪═══╪══════════╪══════════╪═══════════╪═══════════╡\n",
       "│ 2020-10-08 ┆ 2020-10-0 ┆ 0.94555   ┆ 0.94689   ┆ … ┆ 10012.05 ┆ 0.0      ┆ 0.0       ┆ IS        │\n",
       "│ 04:00:00   ┆ 8         ┆           ┆           ┆   ┆          ┆          ┆           ┆           │\n",
       "│            ┆ 08:00:00  ┆           ┆           ┆   ┆          ┆          ┆           ┆           │\n",
       "│ 2020-10-08 ┆ 2020-10-0 ┆ 0.94714   ┆ 0.94846   ┆ … ┆ 10021.53 ┆ 0.0      ┆ 0.0       ┆ IS        │\n",
       "│ 08:00:00   ┆ 8         ┆           ┆           ┆   ┆          ┆          ┆           ┆           │\n",
       "│            ┆ 12:00:00  ┆           ┆           ┆   ┆          ┆          ┆           ┆           │\n",
       "│ 2020-10-09 ┆ 2020-10-0 ┆ 0.94598   ┆ 0.94602   ┆ … ┆ 10021.81 ┆ 0.0      ┆ 0.0       ┆ IS        │\n",
       "│ 00:00:00   ┆ 9         ┆           ┆           ┆   ┆          ┆          ┆           ┆           │\n",
       "│            ┆ 04:00:00  ┆           ┆           ┆   ┆          ┆          ┆           ┆           │\n",
       "│ 2020-10-12 ┆ 2020-10-1 ┆ 0.94914   ┆ 0.94825   ┆ … ┆ 10015.41 ┆ 6.4      ┆ -0.000639 ┆ IS        │\n",
       "│ 00:00:00   ┆ 2         ┆           ┆           ┆   ┆          ┆          ┆           ┆           │\n",
       "│            ┆ 04:00:00  ┆           ┆           ┆   ┆          ┆          ┆           ┆           │\n",
       "│ 2020-10-14 ┆ 2020-10-1 ┆ 0.94076   ┆ 0.94181   ┆ … ┆ 10022.95 ┆ 0.0      ┆ 0.0       ┆ IS        │\n",
       "│ 00:00:00   ┆ 4         ┆           ┆           ┆   ┆          ┆          ┆           ┆           │\n",
       "│            ┆ 04:00:00  ┆           ┆           ┆   ┆          ┆          ┆           ┆           │\n",
       "└────────────┴───────────┴───────────┴───────────┴───┴──────────┴──────────┴───────────┴───────────┘"
      ]
     },
     "execution_count": 71,
     "metadata": {},
     "output_type": "execute_result"
    }
   ],
   "source": [
    "start_date_oos=dt(2,10,8)\n",
    "end_date_oos=dt(2020,10,20)\n",
    "\n",
    "df_tmp=df.filter((pl.col('OpenTime')>=start_date_oos) & (pl.col('OpenTime')<=end_date_oos))\n",
    "df_tmp.head()"
   ]
  },
  {
   "cell_type": "code",
   "execution_count": 115,
   "metadata": {},
   "outputs": [
    {
     "name": "stdout",
     "output_type": "stream",
     "text": [
      "2020-10-05 00:00:00\n",
      "2024-09-23 04:00:00\n",
      "True\n"
     ]
    }
   ],
   "source": [
    "start_date_oos=dt(2020,10,8)\n",
    "end_date_oos=dt(2020,10,20)\n",
    "df_start_date= df['OpenTime'][0]\n",
    "df_end_date= df['CloseTime'][-1]\n",
    "print(df_start_date)\n",
    "print(df_end_date)\n",
    "print(start_date_oos>df_start_date)\n",
    "# df_tmp=df.filter((pl.col('OpenTime')>=start_date_oos) & (pl.col('OpenTime')<=end_date_oos))\n",
    "# df_tmp.head()"
   ]
  }
 ],
 "metadata": {
  "kernelspec": {
   "display_name": "venv",
   "language": "python",
   "name": "python3"
  },
  "language_info": {
   "codemirror_mode": {
    "name": "ipython",
    "version": 3
   },
   "file_extension": ".py",
   "mimetype": "text/x-python",
   "name": "python",
   "nbconvert_exporter": "python",
   "pygments_lexer": "ipython3",
   "version": "3.12.5"
  }
 },
 "nbformat": 4,
 "nbformat_minor": 2
}

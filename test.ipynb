{
 "cells": [
  {
   "cell_type": "code",
   "execution_count": 9,
   "metadata": {},
   "outputs": [],
   "source": [
    "import streamlit as st\n",
    "from datetime import datetime as dt\n",
    "import pandas as pd\n",
    "import numpy as np\n",
    "from bs4 import BeautifulSoup\n",
    "import polars as pl\n",
    "import file_service as fscv\n",
    "import matplotlib.pyplot as plt\n",
    "import matplotlib\n",
    "import plotly.express as px\n",
    "from plotly.subplots import make_subplots\n",
    "from plotly.graph_objs import Line,Bar,Scatter,Layout,Figure"
   ]
  },
  {
   "cell_type": "code",
   "execution_count": 10,
   "metadata": {},
   "outputs": [
    {
     "data": {
      "text/html": [
       "<div><style>\n",
       ".dataframe > thead > tr,\n",
       ".dataframe > tbody > tr {\n",
       "  text-align: right;\n",
       "  white-space: pre-wrap;\n",
       "}\n",
       "</style>\n",
       "<small>shape: (5, 13)</small><table border=\"1\" class=\"dataframe\"><thead><tr><th>OpenTime</th><th>CloseTime</th><th>OpenPrice</th><th>ClosePrice</th><th>Type</th><th>Nb Order</th><th>Volume</th><th>SL</th><th>TP</th><th>Profit</th><th>Balance</th><th>Drawdown</th><th>Drawdown_pct</th></tr><tr><td>datetime[ms]</td><td>datetime[ms]</td><td>f64</td><td>f64</td><td>str</td><td>str</td><td>f64</td><td>f64</td><td>f64</td><td>f64</td><td>f64</td><td>f64</td><td>f64</td></tr></thead><tbody><tr><td>2020-10-05 00:00:00</td><td>2020-10-05 04:00:00</td><td>0.95301</td><td>0.95391</td><td>&quot;buy&quot;</td><td>&quot;1&quot;</td><td>0.1</td><td>0.0</td><td>0.0</td><td>6.46</td><td>10006.46</td><td>0.0</td><td>0.0</td></tr><tr><td>2020-10-06 16:00:00</td><td>2020-10-06 20:00:00</td><td>0.95017</td><td>0.94961</td><td>&quot;buy&quot;</td><td>&quot;2&quot;</td><td>0.1</td><td>0.0</td><td>0.0</td><td>-4.03</td><td>10002.43</td><td>-4.03</td><td>-0.000403</td></tr><tr><td>2020-10-08 04:00:00</td><td>2020-10-08 08:00:00</td><td>0.94555</td><td>0.94689</td><td>&quot;buy&quot;</td><td>&quot;3&quot;</td><td>0.1</td><td>0.0</td><td>0.0</td><td>9.62</td><td>10012.05</td><td>0.0</td><td>0.0</td></tr><tr><td>2020-10-08 08:00:00</td><td>2020-10-08 12:00:00</td><td>0.94714</td><td>0.94846</td><td>&quot;buy&quot;</td><td>&quot;4&quot;</td><td>0.1</td><td>0.0</td><td>0.0</td><td>9.48</td><td>10021.53</td><td>0.0</td><td>0.0</td></tr><tr><td>2020-10-09 00:00:00</td><td>2020-10-09 04:00:00</td><td>0.94598</td><td>0.94602</td><td>&quot;buy&quot;</td><td>&quot;5&quot;</td><td>0.1</td><td>0.0</td><td>0.0</td><td>0.28</td><td>10021.81</td><td>0.0</td><td>0.0</td></tr></tbody></table></div>"
      ],
      "text/plain": [
       "shape: (5, 13)\n",
       "┌────────────┬────────────┬───────────┬────────────┬───┬────────┬──────────┬──────────┬────────────┐\n",
       "│ OpenTime   ┆ CloseTime  ┆ OpenPrice ┆ ClosePrice ┆ … ┆ Profit ┆ Balance  ┆ Drawdown ┆ Drawdown_p │\n",
       "│ ---        ┆ ---        ┆ ---       ┆ ---        ┆   ┆ ---    ┆ ---      ┆ ---      ┆ ct         │\n",
       "│ datetime[m ┆ datetime[m ┆ f64       ┆ f64        ┆   ┆ f64    ┆ f64      ┆ f64      ┆ ---        │\n",
       "│ s]         ┆ s]         ┆           ┆            ┆   ┆        ┆          ┆          ┆ f64        │\n",
       "╞════════════╪════════════╪═══════════╪════════════╪═══╪════════╪══════════╪══════════╪════════════╡\n",
       "│ 2020-10-05 ┆ 2020-10-05 ┆ 0.95301   ┆ 0.95391    ┆ … ┆ 6.46   ┆ 10006.46 ┆ 0.0      ┆ 0.0        │\n",
       "│ 00:00:00   ┆ 04:00:00   ┆           ┆            ┆   ┆        ┆          ┆          ┆            │\n",
       "│ 2020-10-06 ┆ 2020-10-06 ┆ 0.95017   ┆ 0.94961    ┆ … ┆ -4.03  ┆ 10002.43 ┆ -4.03    ┆ -0.000403  │\n",
       "│ 16:00:00   ┆ 20:00:00   ┆           ┆            ┆   ┆        ┆          ┆          ┆            │\n",
       "│ 2020-10-08 ┆ 2020-10-08 ┆ 0.94555   ┆ 0.94689    ┆ … ┆ 9.62   ┆ 10012.05 ┆ 0.0      ┆ 0.0        │\n",
       "│ 04:00:00   ┆ 08:00:00   ┆           ┆            ┆   ┆        ┆          ┆          ┆            │\n",
       "│ 2020-10-08 ┆ 2020-10-08 ┆ 0.94714   ┆ 0.94846    ┆ … ┆ 9.48   ┆ 10021.53 ┆ 0.0      ┆ 0.0        │\n",
       "│ 08:00:00   ┆ 12:00:00   ┆           ┆            ┆   ┆        ┆          ┆          ┆            │\n",
       "│ 2020-10-09 ┆ 2020-10-09 ┆ 0.94598   ┆ 0.94602    ┆ … ┆ 0.28   ┆ 10021.81 ┆ 0.0      ┆ 0.0        │\n",
       "│ 00:00:00   ┆ 04:00:00   ┆           ┆            ┆   ┆        ┆          ┆          ┆            │\n",
       "└────────────┴────────────┴───────────┴────────────┴───┴────────┴──────────┴──────────┴────────────┘"
      ]
     },
     "execution_count": 10,
     "metadata": {},
     "output_type": "execute_result"
    }
   ],
   "source": [
    "fileOpen = \"D:/01_VTALGO_ROUTE/02_tareas/02 Ecosistema 1/Data_Test/20241105 EURUSD/weka/StrategyTester_3245_oos.htm\"\n",
    "fileOpen = \"D:/01_VTALGO_ROUTE/02_tareas/02 Ecosistema 1/Data_Test/20241102 AUDCAD 4H/resultados/StrategyTester_2324.htm\"\n",
    "df= fscv.load_file(fileOpen)\n",
    "data=df\n",
    "# columns= data[0]\n",
    "\n",
    "\n",
    "df.head()"
   ]
  },
  {
   "cell_type": "code",
   "execution_count": 12,
   "metadata": {},
   "outputs": [
    {
     "data": {
      "text/html": [
       "<div><style>\n",
       ".dataframe > thead > tr,\n",
       ".dataframe > tbody > tr {\n",
       "  text-align: right;\n",
       "  white-space: pre-wrap;\n",
       "}\n",
       "</style>\n",
       "<small>shape: (5, 13)</small><table border=\"1\" class=\"dataframe\"><thead><tr><th>OpenTime</th><th>CloseTime</th><th>OpenPrice</th><th>ClosePrice</th><th>Type</th><th>Nb Order</th><th>Volume</th><th>SL</th><th>TP</th><th>Profit</th><th>Balance</th><th>Drawdown</th><th>Drawdown_pct</th></tr><tr><td>datetime[ms]</td><td>datetime[ms]</td><td>f64</td><td>f64</td><td>str</td><td>str</td><td>f64</td><td>f64</td><td>f64</td><td>f64</td><td>f64</td><td>f64</td><td>f64</td></tr></thead><tbody><tr><td>2020-10-05 00:00:00</td><td>2020-10-05 04:00:00</td><td>0.95301</td><td>0.95391</td><td>&quot;buy&quot;</td><td>&quot;1&quot;</td><td>0.1</td><td>0.0</td><td>0.0</td><td>6.46</td><td>10006.46</td><td>0.0</td><td>0.0</td></tr><tr><td>2020-10-06 16:00:00</td><td>2020-10-06 20:00:00</td><td>0.95017</td><td>0.94961</td><td>&quot;buy&quot;</td><td>&quot;2&quot;</td><td>0.1</td><td>0.0</td><td>0.0</td><td>-4.03</td><td>10002.43</td><td>-4.03</td><td>-0.000403</td></tr><tr><td>2020-10-08 04:00:00</td><td>2020-10-08 08:00:00</td><td>0.94555</td><td>0.94689</td><td>&quot;buy&quot;</td><td>&quot;3&quot;</td><td>0.1</td><td>0.0</td><td>0.0</td><td>9.62</td><td>10012.05</td><td>0.0</td><td>0.0</td></tr><tr><td>2020-10-08 08:00:00</td><td>2020-10-08 12:00:00</td><td>0.94714</td><td>0.94846</td><td>&quot;buy&quot;</td><td>&quot;4&quot;</td><td>0.1</td><td>0.0</td><td>0.0</td><td>9.48</td><td>10021.53</td><td>0.0</td><td>0.0</td></tr><tr><td>2020-10-09 00:00:00</td><td>2020-10-09 04:00:00</td><td>0.94598</td><td>0.94602</td><td>&quot;buy&quot;</td><td>&quot;5&quot;</td><td>0.1</td><td>0.0</td><td>0.0</td><td>0.28</td><td>10021.81</td><td>0.0</td><td>0.0</td></tr></tbody></table></div>"
      ],
      "text/plain": [
       "shape: (5, 13)\n",
       "┌────────────┬────────────┬───────────┬────────────┬───┬────────┬──────────┬──────────┬────────────┐\n",
       "│ OpenTime   ┆ CloseTime  ┆ OpenPrice ┆ ClosePrice ┆ … ┆ Profit ┆ Balance  ┆ Drawdown ┆ Drawdown_p │\n",
       "│ ---        ┆ ---        ┆ ---       ┆ ---        ┆   ┆ ---    ┆ ---      ┆ ---      ┆ ct         │\n",
       "│ datetime[m ┆ datetime[m ┆ f64       ┆ f64        ┆   ┆ f64    ┆ f64      ┆ f64      ┆ ---        │\n",
       "│ s]         ┆ s]         ┆           ┆            ┆   ┆        ┆          ┆          ┆ f64        │\n",
       "╞════════════╪════════════╪═══════════╪════════════╪═══╪════════╪══════════╪══════════╪════════════╡\n",
       "│ 2020-10-05 ┆ 2020-10-05 ┆ 0.95301   ┆ 0.95391    ┆ … ┆ 6.46   ┆ 10006.46 ┆ 0.0      ┆ 0.0        │\n",
       "│ 00:00:00   ┆ 04:00:00   ┆           ┆            ┆   ┆        ┆          ┆          ┆            │\n",
       "│ 2020-10-06 ┆ 2020-10-06 ┆ 0.95017   ┆ 0.94961    ┆ … ┆ -4.03  ┆ 10002.43 ┆ -4.03    ┆ -0.000403  │\n",
       "│ 16:00:00   ┆ 20:00:00   ┆           ┆            ┆   ┆        ┆          ┆          ┆            │\n",
       "│ 2020-10-08 ┆ 2020-10-08 ┆ 0.94555   ┆ 0.94689    ┆ … ┆ 9.62   ┆ 10012.05 ┆ 0.0      ┆ 0.0        │\n",
       "│ 04:00:00   ┆ 08:00:00   ┆           ┆            ┆   ┆        ┆          ┆          ┆            │\n",
       "│ 2020-10-08 ┆ 2020-10-08 ┆ 0.94714   ┆ 0.94846    ┆ … ┆ 9.48   ┆ 10021.53 ┆ 0.0      ┆ 0.0        │\n",
       "│ 08:00:00   ┆ 12:00:00   ┆           ┆            ┆   ┆        ┆          ┆          ┆            │\n",
       "│ 2020-10-09 ┆ 2020-10-09 ┆ 0.94598   ┆ 0.94602    ┆ … ┆ 0.28   ┆ 10021.81 ┆ 0.0      ┆ 0.0        │\n",
       "│ 00:00:00   ┆ 04:00:00   ┆           ┆            ┆   ┆        ┆          ┆          ┆            │\n",
       "└────────────┴────────────┴───────────┴────────────┴───┴────────┴──────────┴──────────┴────────────┘"
      ]
     },
     "execution_count": 12,
     "metadata": {},
     "output_type": "execute_result"
    }
   ],
   "source": [
    "start_date_oos=dt(2020,10,8)\n",
    "end_date_oos=dt(2020,10,30)\n",
    "\n",
    "# df.with_columns(pl.when((pl.col('OpenTime')>=start_date_oos) & (pl.col('OpenTime')<=end_date_oos))\n",
    "#                 .then(pl.lit(\"OS\")).otherwise(pl.lit(\"IS\")).alias(\"Type_sample\"))\n",
    "df.head()"
   ]
  },
  {
   "cell_type": "code",
   "execution_count": 13,
   "metadata": {},
   "outputs": [],
   "source": [
    "def fig_main_drawdown(df,\n",
    "                      start_date=dt.now(),\n",
    "                      end_date=dt.now(),\n",
    "                      start_date_oos=dt.now(),\n",
    "                      end_date_oos=dt.now(),\n",
    "                      symbol='')->Figure:\n",
    "\n",
    "    df_start_date= df['OpenTime'][0]\n",
    "    df_end_date= df['CloseTime'][-1]\n",
    "    \n",
    "    if (start_date>df_start_date):\n",
    "        print('true')\n",
    "        df=df.filter((pl.col('OpenTime')>=start_date) )\n",
    "    if (end_date<df_end_date):\n",
    "        print('true')\n",
    "        df=df.filter((pl.col('CloseTime')<=end_date))\n",
    "    \n",
    "    fig = make_subplots(rows=2, cols=1,shared_xaxes=True,subplot_titles=(\"Return\", \"Drawdown\"))\n",
    "    \n",
    "    figure0 = Scatter(x=df['CloseTime'], y=df['Balance'],\n",
    "                line = dict(color='#3E7CFE'),\n",
    "                name=\"Close Price\"\n",
    "                \n",
    "                )\n",
    "    \n",
    "    # df_temp = df.reset_index()\n",
    " \n",
    "    \n",
    "    mean_drawdown=0\n",
    "    max_close = df['Balance'].max()\n",
    "    min_close = df['Balance'].min()\n",
    "    df_tmp =    df.filter((pl.col('OpenTime')>=start_date_oos) & (pl.col('CloseTime')<=end_date_oos))\n",
    "    figure0B = Scatter(x=df_tmp['CloseTime'], y = [max_close for _ in range(df_tmp.shape[0]) ],\n",
    "                                line = dict(color='rgba(0,0,0,0)'),\n",
    "                                # fill='tonexty', \n",
    "                                fill='tozeroy', \n",
    "                                fillcolor =' rgba(114, 161, 144,0.5)',\n",
    "                                name=\"OOS\")\n",
    "    # figure0A = Scatter(x=df_tmp['CloseTime'], y = [min_close for _ in range(df_tmp.shape[0])])\n",
    "\n",
    "\n",
    "    fig.add_trace(figure0B,row=1, col=1)\n",
    "    fig.add_trace(figure0,row=1, col=1,)\n",
    "    # fig.add_trace(figure0A,row=1, col=1)\n",
    "    delta=(max_close-min_close)*.2\n",
    "    fig.update_yaxes(range=[min_close-(delta),max_close+delta],row=1, col=1)\n",
    "\n",
    "    figure2 = Scatter(x=df['CloseTime'], y = df['Drawdown_pct'],\n",
    "                                line = dict(color='rgba(230, 30, 30,1)'),\n",
    "                                fill='tozeroy', \n",
    "                                fillcolor = 'rgba(219, 66, 66,0.8)',name=\"Drawdown\")\n",
    "    figure1 = Scatter(x=df['CloseTime'], y = [mean_drawdown for _ in range(df.shape[0])],\n",
    "                                line = dict(color='#FF003E',dash = 'dash'),name = \"Mean dr\")\n",
    "\n",
    "    fig.add_trace(figure1, row=2, col=1)\n",
    "    \n",
    "    fig.add_trace(figure2, row=2, col=1)\n",
    "    # fig.update_yaxes(range=[df['drawdown'].min()*1.4,0], row=2, col=1)\n",
    "    fig.update_layout(height=800,title=f\"{symbol} - Monthly performance\")\n",
    "    return fig"
   ]
  },
  {
   "cell_type": "code",
   "execution_count": 14,
   "metadata": {},
   "outputs": [
    {
     "name": "stdout",
     "output_type": "stream",
     "text": [
      "true\n",
      "true\n"
     ]
    }
   ],
   "source": [
    "fig = fig_main_drawdown(df,dt(2022,10,8),dt(2024,1,1),dt(2023,12,1),dt(2024,10,20))\n",
    "\n",
    "fig.write_html('first_figure.html', auto_open=True)"
   ]
  },
  {
   "cell_type": "code",
   "execution_count": 15,
   "metadata": {},
   "outputs": [
    {
     "data": {
      "text/html": [
       "<div><style>\n",
       ".dataframe > thead > tr,\n",
       ".dataframe > tbody > tr {\n",
       "  text-align: right;\n",
       "  white-space: pre-wrap;\n",
       "}\n",
       "</style>\n",
       "<small>shape: (853, 14)</small><table border=\"1\" class=\"dataframe\"><thead><tr><th>OpenTime</th><th>CloseTime</th><th>OpenPrice</th><th>ClosePrice</th><th>Type</th><th>Nb Order</th><th>Volume</th><th>SL</th><th>TP</th><th>Profit</th><th>Balance</th><th>Drawdown</th><th>Drawdown_pct</th><th>Type_sample</th></tr><tr><td>datetime[ms]</td><td>datetime[ms]</td><td>f64</td><td>f64</td><td>str</td><td>str</td><td>f64</td><td>f64</td><td>f64</td><td>f64</td><td>f64</td><td>f64</td><td>f64</td><td>str</td></tr></thead><tbody><tr><td>2020-10-05 00:00:00</td><td>2020-10-05 04:00:00</td><td>0.95301</td><td>0.95391</td><td>&quot;buy&quot;</td><td>&quot;1&quot;</td><td>0.1</td><td>0.0</td><td>0.0</td><td>6.46</td><td>10006.46</td><td>0.0</td><td>0.0</td><td>&quot;IS&quot;</td></tr><tr><td>2020-10-06 16:00:00</td><td>2020-10-06 20:00:00</td><td>0.95017</td><td>0.94961</td><td>&quot;buy&quot;</td><td>&quot;2&quot;</td><td>0.1</td><td>0.0</td><td>0.0</td><td>-4.03</td><td>10002.43</td><td>-4.03</td><td>-0.000403</td><td>&quot;IS&quot;</td></tr><tr><td>2020-10-08 04:00:00</td><td>2020-10-08 08:00:00</td><td>0.94555</td><td>0.94689</td><td>&quot;buy&quot;</td><td>&quot;3&quot;</td><td>0.1</td><td>0.0</td><td>0.0</td><td>9.62</td><td>10012.05</td><td>0.0</td><td>0.0</td><td>&quot;OOS&quot;</td></tr><tr><td>2020-10-08 08:00:00</td><td>2020-10-08 12:00:00</td><td>0.94714</td><td>0.94846</td><td>&quot;buy&quot;</td><td>&quot;4&quot;</td><td>0.1</td><td>0.0</td><td>0.0</td><td>9.48</td><td>10021.53</td><td>0.0</td><td>0.0</td><td>&quot;OOS&quot;</td></tr><tr><td>2020-10-09 00:00:00</td><td>2020-10-09 04:00:00</td><td>0.94598</td><td>0.94602</td><td>&quot;buy&quot;</td><td>&quot;5&quot;</td><td>0.1</td><td>0.0</td><td>0.0</td><td>0.28</td><td>10021.81</td><td>0.0</td><td>0.0</td><td>&quot;OOS&quot;</td></tr><tr><td>&hellip;</td><td>&hellip;</td><td>&hellip;</td><td>&hellip;</td><td>&hellip;</td><td>&hellip;</td><td>&hellip;</td><td>&hellip;</td><td>&hellip;</td><td>&hellip;</td><td>&hellip;</td><td>&hellip;</td><td>&hellip;</td><td>&hellip;</td></tr><tr><td>2024-09-03 16:00:00</td><td>2024-09-03 20:00:00</td><td>0.91288</td><td>0.9101</td><td>&quot;buy&quot;</td><td>&quot;849&quot;</td><td>0.1</td><td>0.0</td><td>0.0</td><td>-19.97</td><td>12569.46</td><td>-64.87</td><td>-0.005134</td><td>&quot;IS&quot;</td></tr><tr><td>2024-09-04 08:00:00</td><td>2024-09-04 12:00:00</td><td>0.90754</td><td>0.90904</td><td>&quot;buy&quot;</td><td>&quot;850&quot;</td><td>0.1</td><td>0.0</td><td>0.0</td><td>10.78</td><td>12580.24</td><td>-54.09</td><td>-0.004281</td><td>&quot;IS&quot;</td></tr><tr><td>2024-09-09 16:00:00</td><td>2024-09-09 20:00:00</td><td>0.90269</td><td>0.90365</td><td>&quot;buy&quot;</td><td>&quot;851&quot;</td><td>0.1</td><td>0.0</td><td>0.0</td><td>6.9</td><td>12587.14</td><td>-47.19</td><td>-0.003735</td><td>&quot;IS&quot;</td></tr><tr><td>2024-09-16 04:00:00</td><td>2024-09-16 08:00:00</td><td>0.91138</td><td>0.9129</td><td>&quot;buy&quot;</td><td>&quot;852&quot;</td><td>0.1</td><td>0.0</td><td>0.0</td><td>10.92</td><td>12598.06</td><td>-36.27</td><td>-0.002871</td><td>&quot;IS&quot;</td></tr><tr><td>2024-09-23 00:00:00</td><td>2024-09-23 04:00:00</td><td>0.92171</td><td>0.92421</td><td>&quot;buy&quot;</td><td>&quot;853&quot;</td><td>0.1</td><td>0.0</td><td>0.0</td><td>17.96</td><td>12616.02</td><td>-18.31</td><td>-0.001449</td><td>&quot;IS&quot;</td></tr></tbody></table></div>"
      ],
      "text/plain": [
       "shape: (853, 14)\n",
       "┌────────────┬───────────┬───────────┬───────────┬───┬──────────┬──────────┬───────────┬───────────┐\n",
       "│ OpenTime   ┆ CloseTime ┆ OpenPrice ┆ ClosePric ┆ … ┆ Balance  ┆ Drawdown ┆ Drawdown_ ┆ Type_samp │\n",
       "│ ---        ┆ ---       ┆ ---       ┆ e         ┆   ┆ ---      ┆ ---      ┆ pct       ┆ le        │\n",
       "│ datetime[m ┆ datetime[ ┆ f64       ┆ ---       ┆   ┆ f64      ┆ f64      ┆ ---       ┆ ---       │\n",
       "│ s]         ┆ ms]       ┆           ┆ f64       ┆   ┆          ┆          ┆ f64       ┆ str       │\n",
       "╞════════════╪═══════════╪═══════════╪═══════════╪═══╪══════════╪══════════╪═══════════╪═══════════╡\n",
       "│ 2020-10-05 ┆ 2020-10-0 ┆ 0.95301   ┆ 0.95391   ┆ … ┆ 10006.46 ┆ 0.0      ┆ 0.0       ┆ IS        │\n",
       "│ 00:00:00   ┆ 5         ┆           ┆           ┆   ┆          ┆          ┆           ┆           │\n",
       "│            ┆ 04:00:00  ┆           ┆           ┆   ┆          ┆          ┆           ┆           │\n",
       "│ 2020-10-06 ┆ 2020-10-0 ┆ 0.95017   ┆ 0.94961   ┆ … ┆ 10002.43 ┆ -4.03    ┆ -0.000403 ┆ IS        │\n",
       "│ 16:00:00   ┆ 6         ┆           ┆           ┆   ┆          ┆          ┆           ┆           │\n",
       "│            ┆ 20:00:00  ┆           ┆           ┆   ┆          ┆          ┆           ┆           │\n",
       "│ 2020-10-08 ┆ 2020-10-0 ┆ 0.94555   ┆ 0.94689   ┆ … ┆ 10012.05 ┆ 0.0      ┆ 0.0       ┆ OOS       │\n",
       "│ 04:00:00   ┆ 8         ┆           ┆           ┆   ┆          ┆          ┆           ┆           │\n",
       "│            ┆ 08:00:00  ┆           ┆           ┆   ┆          ┆          ┆           ┆           │\n",
       "│ 2020-10-08 ┆ 2020-10-0 ┆ 0.94714   ┆ 0.94846   ┆ … ┆ 10021.53 ┆ 0.0      ┆ 0.0       ┆ OOS       │\n",
       "│ 08:00:00   ┆ 8         ┆           ┆           ┆   ┆          ┆          ┆           ┆           │\n",
       "│            ┆ 12:00:00  ┆           ┆           ┆   ┆          ┆          ┆           ┆           │\n",
       "│ 2020-10-09 ┆ 2020-10-0 ┆ 0.94598   ┆ 0.94602   ┆ … ┆ 10021.81 ┆ 0.0      ┆ 0.0       ┆ OOS       │\n",
       "│ 00:00:00   ┆ 9         ┆           ┆           ┆   ┆          ┆          ┆           ┆           │\n",
       "│            ┆ 04:00:00  ┆           ┆           ┆   ┆          ┆          ┆           ┆           │\n",
       "│ …          ┆ …         ┆ …         ┆ …         ┆ … ┆ …        ┆ …        ┆ …         ┆ …         │\n",
       "│ 2024-09-03 ┆ 2024-09-0 ┆ 0.91288   ┆ 0.9101    ┆ … ┆ 12569.46 ┆ -64.87   ┆ -0.005134 ┆ IS        │\n",
       "│ 16:00:00   ┆ 3         ┆           ┆           ┆   ┆          ┆          ┆           ┆           │\n",
       "│            ┆ 20:00:00  ┆           ┆           ┆   ┆          ┆          ┆           ┆           │\n",
       "│ 2024-09-04 ┆ 2024-09-0 ┆ 0.90754   ┆ 0.90904   ┆ … ┆ 12580.24 ┆ -54.09   ┆ -0.004281 ┆ IS        │\n",
       "│ 08:00:00   ┆ 4         ┆           ┆           ┆   ┆          ┆          ┆           ┆           │\n",
       "│            ┆ 12:00:00  ┆           ┆           ┆   ┆          ┆          ┆           ┆           │\n",
       "│ 2024-09-09 ┆ 2024-09-0 ┆ 0.90269   ┆ 0.90365   ┆ … ┆ 12587.14 ┆ -47.19   ┆ -0.003735 ┆ IS        │\n",
       "│ 16:00:00   ┆ 9         ┆           ┆           ┆   ┆          ┆          ┆           ┆           │\n",
       "│            ┆ 20:00:00  ┆           ┆           ┆   ┆          ┆          ┆           ┆           │\n",
       "│ 2024-09-16 ┆ 2024-09-1 ┆ 0.91138   ┆ 0.9129    ┆ … ┆ 12598.06 ┆ -36.27   ┆ -0.002871 ┆ IS        │\n",
       "│ 04:00:00   ┆ 6         ┆           ┆           ┆   ┆          ┆          ┆           ┆           │\n",
       "│            ┆ 08:00:00  ┆           ┆           ┆   ┆          ┆          ┆           ┆           │\n",
       "│ 2024-09-23 ┆ 2024-09-2 ┆ 0.92171   ┆ 0.92421   ┆ … ┆ 12616.02 ┆ -18.31   ┆ -0.001449 ┆ IS        │\n",
       "│ 00:00:00   ┆ 3         ┆           ┆           ┆   ┆          ┆          ┆           ┆           │\n",
       "│            ┆ 04:00:00  ┆           ┆           ┆   ┆          ┆          ┆           ┆           │\n",
       "└────────────┴───────────┴───────────┴───────────┴───┴──────────┴──────────┴───────────┴───────────┘"
      ]
     },
     "execution_count": 15,
     "metadata": {},
     "output_type": "execute_result"
    }
   ],
   "source": [
    "df=df.with_columns(pl.when((pl.col('OpenTime')>=start_date_oos) & (pl.col('OpenTime')<=end_date_oos))\n",
    "                    .then(pl.lit(\"OOS\")).otherwise(pl.lit(\"IS\")).alias(\"Type_sample\"))\n",
    "df"
   ]
  },
  {
   "cell_type": "code",
   "execution_count": 16,
   "metadata": {},
   "outputs": [],
   "source": [
    "def daily_avg_profit(df):\n",
    "    nb_days=df.with_columns(\n",
    "                pl.col('OpenTime').dt.strftime(\"%Y%m%d\").alias('days_txt'),\n",
    "                )['days_txt'].unique().shape[0]\n",
    "    total_profit= df['Profit'].sum()\n",
    "    return total_profit/cnt_days\n",
    "def month_avg_profit(df):\n",
    "    cnt_month= df.with_columns(\n",
    "                pl.col('OpenTime').dt.strftime(\"%Y%m\").alias('month_txt'),\n",
    "                )['month_txt'].unique().shape[0]\n",
    "    total_profit= df_tmp['Profit'].sum()\n",
    "    return total_profit/cnt_month"
   ]
  },
  {
   "cell_type": "code",
   "execution_count": 17,
   "metadata": {},
   "outputs": [
    {
     "name": "stdout",
     "output_type": "stream",
     "text": [
      "546\n",
      "1000.4054794520548\n"
     ]
    }
   ],
   "source": [
    "print(df.with_columns(\n",
    "                pl.col('OpenTime').dt.strftime(\"%Y%m%d\").alias('days_txt'),\n",
    "                )['days_txt'].unique().shape[0])\n",
    "print((df['OpenTime'].max()-df['OpenTime'].min()).days*252/365)\n"
   ]
  },
  {
   "cell_type": "code",
   "execution_count": 18,
   "metadata": {},
   "outputs": [
    {
     "name": "stdout",
     "output_type": "stream",
     "text": [
      "54.50604166666667\n",
      "4.791739926739926\n"
     ]
    },
    {
     "name": "stderr",
     "output_type": "stream",
     "text": [
      "C:\\Users\\FL\\AppData\\Local\\Temp\\ipykernel_19876\\1464795418.py:8: DeprecationWarning:\n",
      "\n",
      "`GroupBy.count` is deprecated. It has been renamed to `len`.\n",
      "\n",
      "C:\\Users\\FL\\AppData\\Local\\Temp\\ipykernel_19876\\1464795418.py:9: DeprecationWarning:\n",
      "\n",
      "`GroupBy.count` is deprecated. It has been renamed to `len`.\n",
      "\n"
     ]
    }
   ],
   "source": [
    "df_tmp= df.with_columns(pl.col('OpenTime').dt.day().alias('MonthDay'),\n",
    "                pl.col('OpenTime').dt.month().alias('Month'),\n",
    "                pl.col('OpenTime').dt.strftime(\"%Y%m%d\").alias('day_txt'),\n",
    "                pl.col('OpenTime').dt.strftime(\"%Y%m\").alias('month_txt'),\n",
    "                )\n",
    "\n",
    "nb_days=df_tmp.group_by_dynamic('OpenTime',every=\"1d\").agg(pl.col('Profit').mean()).shape[0]\n",
    "cnt_days=df_tmp.group_by('day_txt').count().shape[0]\n",
    "cnt_month=df_tmp.group_by('month_txt').count().shape[0]\n",
    "total_profit= df_tmp['Balance'][-1]-df_tmp['Balance'][0]\n",
    "total_profit= df_tmp['Profit'].sum()\n",
    "print(month_avg_profit(df))\n",
    "print(daily_avg_profit(df))\n"
   ]
  },
  {
   "cell_type": "code",
   "execution_count": 19,
   "metadata": {},
   "outputs": [],
   "source": [
    "def dist_returns(df,symbol='')->Figure:\n",
    "    \n",
    "    fig = px.histogram(df, x=\"Profit\",color='Type_sample',labels={'Profit':\"Profits\", 'count':'Frec','Type_sample':\"Tipo\"}\n",
    "                   )\n",
    "    \n",
    "    fig.update_yaxes(title={'text':'Frec'})\n",
    "    \n",
    "        \n",
    "    return fig\n",
    "fig= dist_returns(df)\n",
    "fig.write_html('first_figure.html', auto_open=True)"
   ]
  },
  {
   "cell_type": "code",
   "execution_count": 20,
   "metadata": {},
   "outputs": [],
   "source": [
    "def separate_df(df):\n",
    "    is_data = df.filter(pl.col('Type_sample')=='IS')\n",
    "    oos_data = df.filter(pl.col('Type_sample')=='OOS')\n",
    "    return is_data, oos_data\n",
    "df_is,df_oos=separate_df(df)"
   ]
  },
  {
   "cell_type": "code",
   "execution_count": 21,
   "metadata": {},
   "outputs": [],
   "source": [
    "def calcular_ratio_sharpe(df, risk_free=0.0):\n",
    "    # calcular_ratio_sharpe(df['Profit'],periodos_anuales=252*6)\n",
    "    df=df.with_columns(\n",
    "        (pl.col('Balance')/pl.col('Balance').shift(1)-1).alias('Profit_pct')\n",
    "    )\n",
    "    \n",
    "    return (df['Profit_pct'].mean()-risk_free)/df['Profit_pct'].std()"
   ]
  },
  {
   "cell_type": "code",
   "execution_count": 22,
   "metadata": {},
   "outputs": [],
   "source": [
    "def calcular_pf(df):\n",
    "    return abs(df.filter(pl.col('Profit')>0)['Profit'].sum()/df.filter(pl.col('Profit')<0)['Profit'].sum())\n",
    "def calcular_winrate(df):\n",
    "    return abs(df.filter(pl.col('Profit')>0)['Profit'].shape[0]/df.shape[0])\n",
    "def calcular_winrate(df):\n",
    "    return abs(df.filter(pl.col('Profit')>0)['Profit'].shape[0]/df.shape[0])\n",
    "def calcular_ret_dd(df):\n",
    "    return df['Profit'].sum()/-df['Drawdown'].min()\n",
    "def gross_profit(df):\n",
    "    return df.filter(pl.col('Profit')>=0)['Profit'].sum()\n",
    "def gross_Loss(df):\n",
    "    return df.filter(pl.col('Profit')<=0)['Profit'].sum()\n",
    "def calc_expectancy(df):\n",
    "    win=df.filter(pl.col('Profit')>0)['Profit']\n",
    "    loss=df.filter(pl.col('Profit')<0)['Profit']\n",
    "\n",
    "    avg_win=win.mean()\n",
    "    avg_loss=loss.mean()\n",
    "    prop_win = win.shape[0]/df.shape[0]\n",
    "    prop_loss = loss.shape[0]/df.shape[0]\n",
    "\n",
    "    expectancy=((avg_win*prop_win)+(avg_loss*prop_loss))\n",
    "    return expectancy\n",
    "\n",
    "def calc_win_loss_ratio(df):\n",
    "    win=df.filter(pl.col('Profit')>0)['Profit']\n",
    "    loss=df.filter(pl.col('Profit')<0)['Profit']\n",
    "\n",
    "    avg_win=win.mean()\n",
    "    avg_loss=loss.mean()\n",
    "    prop_win = win.shape[0]/df.shape[0]\n",
    "    prop_loss = loss.shape[0]/df.shape[0]\n",
    "\n",
    "    win_loss_ratio=(win.shape[0]/loss.shape[0])\n",
    "    return  win_loss_ratio\n",
    "\n",
    "def calc_payout_ratio(df):\n",
    "    win=df.filter(pl.col('Profit')>0)['Profit']\n",
    "    loss=df.filter(pl.col('Profit')<0)['Profit']\n",
    "\n",
    "    avg_win=win.mean()\n",
    "    avg_loss=loss.mean()\n",
    "    prop_win = win.shape[0]/df.shape[0]\n",
    "    prop_loss = loss.shape[0]/df.shape[0]\n",
    "\n",
    "    payout_ratio= -(avg_win/avg_loss)\n",
    "\n",
    "    return  payout_ratio"
   ]
  },
  {
   "cell_type": "code",
   "execution_count": 23,
   "metadata": {},
   "outputs": [
    {
     "name": "stdout",
     "output_type": "stream",
     "text": [
      "9.583719626168225\n",
      "-7.94620253164557\n",
      "0.6271981242672919\n",
      "0.3704572098475967\n",
      "3.0671629542790155\n"
     ]
    }
   ],
   "source": [
    "win=df.filter(pl.col('Profit')>0)['Profit']\n",
    "loss=df.filter(pl.col('Profit')<0)['Profit']\n",
    "\n",
    "avg_win=win.mean()\n",
    "avg_loss=loss.mean()\n",
    "prop_win = win.shape[0]/df.shape[0]\n",
    "prop_loss = loss.shape[0]/df.shape[0]\n",
    "\n",
    "print(avg_win)\n",
    "print(avg_loss)\n",
    "print(prop_win)\n",
    "print(prop_loss)\n",
    "win_loss_ratio=(win.shape[0]/loss.shape[0])\n",
    "payout_ratio= -(avg_win/avg_loss)\n",
    "\n",
    "expectancy=((avg_win*prop_win)+(avg_loss*prop_loss))\n",
    "print(expectancy)\n"
   ]
  },
  {
   "cell_type": "code",
   "execution_count": 24,
   "metadata": {},
   "outputs": [
    {
     "data": {
      "text/html": [
       "<div><style>\n",
       ".dataframe > thead > tr,\n",
       ".dataframe > tbody > tr {\n",
       "  text-align: right;\n",
       "  white-space: pre-wrap;\n",
       "}\n",
       "</style>\n",
       "<small>shape: (5, 4)</small><table border=\"1\" class=\"dataframe\"><thead><tr><th>statistic</th><th>IS</th><th>OS</th><th>IS_OOS</th></tr><tr><td>str</td><td>str</td><td>str</td><td>str</td></tr></thead><tbody><tr><td>&quot;PF&quot;</td><td>&quot;2.05&quot;</td><td>&quot;1.86&quot;</td><td>&quot;2.04&quot;</td></tr><tr><td>&quot;Win Rate&quot;</td><td>&quot;62.74%&quot;</td><td>&quot;61.90%&quot;</td><td>&quot;62.72%&quot;</td></tr><tr><td>&quot;Drawdown Max PCT&quot;</td><td>&quot;1.66%&quot;</td><td>&quot;0.31%&quot;</td><td>&quot;1.66%&quot;</td></tr><tr><td>&quot;Drawdown Max&quot;</td><td>&quot;180.39&quot;</td><td>&quot;31.23&quot;</td><td>&quot;180.39&quot;</td></tr><tr><td>&quot;Return/DD ratio&quot;</td><td>&quot;14.23&quot;</td><td>&quot;14.23&quot;</td><td>&quot;14.23&quot;</td></tr></tbody></table></div>"
      ],
      "text/plain": [
       "shape: (5, 4)\n",
       "┌──────────────────┬────────┬────────┬────────┐\n",
       "│ statistic        ┆ IS     ┆ OS     ┆ IS_OOS │\n",
       "│ ---              ┆ ---    ┆ ---    ┆ ---    │\n",
       "│ str              ┆ str    ┆ str    ┆ str    │\n",
       "╞══════════════════╪════════╪════════╪════════╡\n",
       "│ PF               ┆ 2.05   ┆ 1.86   ┆ 2.04   │\n",
       "│ Win Rate         ┆ 62.74% ┆ 61.90% ┆ 62.72% │\n",
       "│ Drawdown Max PCT ┆ 1.66%  ┆ 0.31%  ┆ 1.66%  │\n",
       "│ Drawdown Max     ┆ 180.39 ┆ 31.23  ┆ 180.39 │\n",
       "│ Return/DD ratio  ┆ 14.23  ┆ 14.23  ┆ 14.23  │\n",
       "└──────────────────┴────────┴────────┴────────┘"
      ]
     },
     "execution_count": 24,
     "metadata": {},
     "output_type": "execute_result"
    }
   ],
   "source": [
    "df_statistics=pl.DataFrame\n",
    "statistics= []\n",
    "\n",
    "statistics+=[\n",
    "        {'statistic':'PF',\n",
    "             'IS':f'{calcular_pf(df_is):.2f}',\n",
    "             'OS':f'{calcular_pf(df_oos):.2f}',\n",
    "             'IS_OOS':f'{calcular_pf(df):.2f}'},\n",
    "            {'statistic':'Win Rate',\n",
    "             'IS':f'{calcular_winrate(df_is)*100:.2f}%',\n",
    "             'OS':f'{calcular_winrate(df_oos)*100:.2f}%',\n",
    "             'IS_OOS':f'{calcular_winrate(df)*100:.2f}%'},\n",
    "            {'statistic':'Drawdown Max PCT',\n",
    "             'IS':f'{-df_is['Drawdown_pct'].min()*100:.2f}%',\n",
    "             'OS':f'{-df_oos['Drawdown_pct'].min()*100:.2f}%',\n",
    "             'IS_OOS':f'{-df['Drawdown_pct'].min()*100:.2f}%'},\n",
    "            {'statistic':'Drawdown Max',\n",
    "             'IS':f'{-df_is['Drawdown'].min():.2f}',\n",
    "             'OS':f'{-df_oos['Drawdown'].min():.2f}',\n",
    "             'IS_OOS':f'{-df['Drawdown'].min():.2f}'},\n",
    "            \n",
    "            {'statistic':'Return/DD ratio',\n",
    "             'IS':f'{calcular_ret_dd(df_is):.2f}',\n",
    "             'OS':f'{calcular_ret_dd(df_is):.2f}',\n",
    "             'IS_OOS':f'{calcular_ret_dd(df_is):.2f}'},\n",
    "            \n",
    "        ]\n",
    "\n",
    "df_statistics=pl.DataFrame(statistics)\n",
    "df_statistics"
   ]
  },
  {
   "cell_type": "code",
   "execution_count": 25,
   "metadata": {},
   "outputs": [],
   "source": [
    "df_tmp=df.with_columns(pl.when(pl.col('Profit')>0).then(1).otherwise(0).alias('win_op'),\n",
    "                pl.when(pl.col('Profit')<0).then(1).otherwise(0).alias('loss_op'))['win_op']\n",
    "\n"
   ]
  },
  {
   "cell_type": "code",
   "execution_count": 26,
   "metadata": {},
   "outputs": [],
   "source": [
    "def calcular_max_consecutivos(df: pl.DataFrame, columna: str) -> dict:\n",
    "    \"\"\"\n",
    "    Calcula la máxima cantidad de 1s y 0s consecutivos en una columna.\n",
    "    \n",
    "    Parámetros:\n",
    "    df (pl.DataFrame): DataFrame de Polars\n",
    "    columna (str): Nombre de la columna que contiene los valores binarios\n",
    "    \n",
    "    Retorna:\n",
    "    dict: Diccionario con estadísticas de consecutivos para 1s y 0s\n",
    "    \"\"\"\n",
    "    # Crear una columna que indica cuando hay un cambio en el valor\n",
    "    df=df.with_columns(pl.when(pl.col(columna)>0).then(1).otherwise(0).alias('win_op'))\n",
    "    \n",
    "    df_with_changes = df.with_columns([\n",
    "        pl.col('win_op').ne(pl.col('win_op').shift()).fill_null(True).alias(\"cambio\")\n",
    "    ])\n",
    "    \n",
    "    # Crear un grupo para cada secuencia consecutiva\n",
    "    df_with_groups = df_with_changes.with_columns([\n",
    "        pl.col(\"cambio\").cum_sum().alias(\"grupo\")\n",
    "    ])\n",
    "    \n",
    "    # Calcular estadísticas para 1s y 0s\n",
    "    stats = (df_with_groups\n",
    "        .group_by([\"grupo\", 'win_op'])\n",
    "        .agg(pl.len().alias(\"consecutivos\"))\n",
    "        .group_by('win_op')\n",
    "        .agg([\n",
    "            pl.col(\"consecutivos\").max().alias(\"max_consecutivos\"),\n",
    "            pl.col(\"consecutivos\").mean().alias(\"promedio_consecutivos\"),\n",
    "            pl.col(\"consecutivos\").count().alias(\"num_secuencias\")\n",
    "        ]))\n",
    "    \n",
    "    # Convertir a diccionario para fácil acceso\n",
    "    resultado = {\n",
    "        \"unos\": {\n",
    "            \"max_consecutivos\": stats.filter(pl.col('win_op') == 1)[\"max_consecutivos\"][0],\n",
    "            \"promedio_consecutivos\": stats.filter(pl.col('win_op') == 1)[\"promedio_consecutivos\"][0],\n",
    "            \"num_secuencias\": stats.filter(pl.col('win_op') == 1)[\"num_secuencias\"][0]\n",
    "        },\n",
    "        \"ceros\": {\n",
    "            \"max_consecutivos\": stats.filter(pl.col('win_op') == 0)[\"max_consecutivos\"][0],\n",
    "            \"promedio_consecutivos\": stats.filter(pl.col('win_op') == 0)[\"promedio_consecutivos\"][0],\n",
    "            \"num_secuencias\": stats.filter(pl.col('win_op') == 0)[\"num_secuencias\"][0]\n",
    "        }\n",
    "    }\n",
    "    return resultado"
   ]
  },
  {
   "cell_type": "code",
   "execution_count": 27,
   "metadata": {},
   "outputs": [
    {
     "data": {
      "text/plain": [
       "12"
      ]
     },
     "execution_count": 27,
     "metadata": {},
     "output_type": "execute_result"
    }
   ],
   "source": [
    "calcular_max_consecutivos(df,'Profit')['unos']['max_consecutivos']\n",
    "\n",
    "    \n",
    "    "
   ]
  },
  {
   "cell_type": "code",
   "execution_count": 28,
   "metadata": {},
   "outputs": [
    {
     "data": {
      "text/html": [
       "<div><style>\n",
       ".dataframe > thead > tr,\n",
       ".dataframe > tbody > tr {\n",
       "  text-align: right;\n",
       "  white-space: pre-wrap;\n",
       "}\n",
       "</style>\n",
       "<small>shape: (853, 15)</small><table border=\"1\" class=\"dataframe\"><thead><tr><th>OpenTime</th><th>CloseTime</th><th>OpenPrice</th><th>ClosePrice</th><th>Type</th><th>Nb Order</th><th>Volume</th><th>SL</th><th>TP</th><th>Profit</th><th>Balance</th><th>Drawdown</th><th>Drawdown_pct</th><th>Type_sample</th><th>pct</th></tr><tr><td>datetime[ms]</td><td>datetime[ms]</td><td>f64</td><td>f64</td><td>str</td><td>str</td><td>f64</td><td>f64</td><td>f64</td><td>f64</td><td>f64</td><td>f64</td><td>f64</td><td>str</td><td>f64</td></tr></thead><tbody><tr><td>2020-10-05 00:00:00</td><td>2020-10-05 04:00:00</td><td>0.95301</td><td>0.95391</td><td>&quot;buy&quot;</td><td>&quot;1&quot;</td><td>0.1</td><td>0.0</td><td>0.0</td><td>6.46</td><td>10006.46</td><td>0.0</td><td>0.0</td><td>&quot;IS&quot;</td><td>null</td></tr><tr><td>2020-10-06 16:00:00</td><td>2020-10-06 20:00:00</td><td>0.95017</td><td>0.94961</td><td>&quot;buy&quot;</td><td>&quot;2&quot;</td><td>0.1</td><td>0.0</td><td>0.0</td><td>-4.03</td><td>10002.43</td><td>-4.03</td><td>-0.000403</td><td>&quot;IS&quot;</td><td>-0.000403</td></tr><tr><td>2020-10-08 04:00:00</td><td>2020-10-08 08:00:00</td><td>0.94555</td><td>0.94689</td><td>&quot;buy&quot;</td><td>&quot;3&quot;</td><td>0.1</td><td>0.0</td><td>0.0</td><td>9.62</td><td>10012.05</td><td>0.0</td><td>0.0</td><td>&quot;OOS&quot;</td><td>0.000962</td></tr><tr><td>2020-10-08 08:00:00</td><td>2020-10-08 12:00:00</td><td>0.94714</td><td>0.94846</td><td>&quot;buy&quot;</td><td>&quot;4&quot;</td><td>0.1</td><td>0.0</td><td>0.0</td><td>9.48</td><td>10021.53</td><td>0.0</td><td>0.0</td><td>&quot;OOS&quot;</td><td>0.000947</td></tr><tr><td>2020-10-09 00:00:00</td><td>2020-10-09 04:00:00</td><td>0.94598</td><td>0.94602</td><td>&quot;buy&quot;</td><td>&quot;5&quot;</td><td>0.1</td><td>0.0</td><td>0.0</td><td>0.28</td><td>10021.81</td><td>0.0</td><td>0.0</td><td>&quot;OOS&quot;</td><td>0.000028</td></tr><tr><td>&hellip;</td><td>&hellip;</td><td>&hellip;</td><td>&hellip;</td><td>&hellip;</td><td>&hellip;</td><td>&hellip;</td><td>&hellip;</td><td>&hellip;</td><td>&hellip;</td><td>&hellip;</td><td>&hellip;</td><td>&hellip;</td><td>&hellip;</td><td>&hellip;</td></tr><tr><td>2024-09-03 16:00:00</td><td>2024-09-03 20:00:00</td><td>0.91288</td><td>0.9101</td><td>&quot;buy&quot;</td><td>&quot;849&quot;</td><td>0.1</td><td>0.0</td><td>0.0</td><td>-19.97</td><td>12569.46</td><td>-64.87</td><td>-0.005134</td><td>&quot;IS&quot;</td><td>-0.001586</td></tr><tr><td>2024-09-04 08:00:00</td><td>2024-09-04 12:00:00</td><td>0.90754</td><td>0.90904</td><td>&quot;buy&quot;</td><td>&quot;850&quot;</td><td>0.1</td><td>0.0</td><td>0.0</td><td>10.78</td><td>12580.24</td><td>-54.09</td><td>-0.004281</td><td>&quot;IS&quot;</td><td>0.000858</td></tr><tr><td>2024-09-09 16:00:00</td><td>2024-09-09 20:00:00</td><td>0.90269</td><td>0.90365</td><td>&quot;buy&quot;</td><td>&quot;851&quot;</td><td>0.1</td><td>0.0</td><td>0.0</td><td>6.9</td><td>12587.14</td><td>-47.19</td><td>-0.003735</td><td>&quot;IS&quot;</td><td>0.000548</td></tr><tr><td>2024-09-16 04:00:00</td><td>2024-09-16 08:00:00</td><td>0.91138</td><td>0.9129</td><td>&quot;buy&quot;</td><td>&quot;852&quot;</td><td>0.1</td><td>0.0</td><td>0.0</td><td>10.92</td><td>12598.06</td><td>-36.27</td><td>-0.002871</td><td>&quot;IS&quot;</td><td>0.000868</td></tr><tr><td>2024-09-23 00:00:00</td><td>2024-09-23 04:00:00</td><td>0.92171</td><td>0.92421</td><td>&quot;buy&quot;</td><td>&quot;853&quot;</td><td>0.1</td><td>0.0</td><td>0.0</td><td>17.96</td><td>12616.02</td><td>-18.31</td><td>-0.001449</td><td>&quot;IS&quot;</td><td>0.001426</td></tr></tbody></table></div>"
      ],
      "text/plain": [
       "shape: (853, 15)\n",
       "┌───────────┬───────────┬───────────┬───────────┬───┬──────────┬───────────┬───────────┬───────────┐\n",
       "│ OpenTime  ┆ CloseTime ┆ OpenPrice ┆ ClosePric ┆ … ┆ Drawdown ┆ Drawdown_ ┆ Type_samp ┆ pct       │\n",
       "│ ---       ┆ ---       ┆ ---       ┆ e         ┆   ┆ ---      ┆ pct       ┆ le        ┆ ---       │\n",
       "│ datetime[ ┆ datetime[ ┆ f64       ┆ ---       ┆   ┆ f64      ┆ ---       ┆ ---       ┆ f64       │\n",
       "│ ms]       ┆ ms]       ┆           ┆ f64       ┆   ┆          ┆ f64       ┆ str       ┆           │\n",
       "╞═══════════╪═══════════╪═══════════╪═══════════╪═══╪══════════╪═══════════╪═══════════╪═══════════╡\n",
       "│ 2020-10-0 ┆ 2020-10-0 ┆ 0.95301   ┆ 0.95391   ┆ … ┆ 0.0      ┆ 0.0       ┆ IS        ┆ null      │\n",
       "│ 5         ┆ 5         ┆           ┆           ┆   ┆          ┆           ┆           ┆           │\n",
       "│ 00:00:00  ┆ 04:00:00  ┆           ┆           ┆   ┆          ┆           ┆           ┆           │\n",
       "│ 2020-10-0 ┆ 2020-10-0 ┆ 0.95017   ┆ 0.94961   ┆ … ┆ -4.03    ┆ -0.000403 ┆ IS        ┆ -0.000403 │\n",
       "│ 6         ┆ 6         ┆           ┆           ┆   ┆          ┆           ┆           ┆           │\n",
       "│ 16:00:00  ┆ 20:00:00  ┆           ┆           ┆   ┆          ┆           ┆           ┆           │\n",
       "│ 2020-10-0 ┆ 2020-10-0 ┆ 0.94555   ┆ 0.94689   ┆ … ┆ 0.0      ┆ 0.0       ┆ OOS       ┆ 0.000962  │\n",
       "│ 8         ┆ 8         ┆           ┆           ┆   ┆          ┆           ┆           ┆           │\n",
       "│ 04:00:00  ┆ 08:00:00  ┆           ┆           ┆   ┆          ┆           ┆           ┆           │\n",
       "│ 2020-10-0 ┆ 2020-10-0 ┆ 0.94714   ┆ 0.94846   ┆ … ┆ 0.0      ┆ 0.0       ┆ OOS       ┆ 0.000947  │\n",
       "│ 8         ┆ 8         ┆           ┆           ┆   ┆          ┆           ┆           ┆           │\n",
       "│ 08:00:00  ┆ 12:00:00  ┆           ┆           ┆   ┆          ┆           ┆           ┆           │\n",
       "│ 2020-10-0 ┆ 2020-10-0 ┆ 0.94598   ┆ 0.94602   ┆ … ┆ 0.0      ┆ 0.0       ┆ OOS       ┆ 0.000028  │\n",
       "│ 9         ┆ 9         ┆           ┆           ┆   ┆          ┆           ┆           ┆           │\n",
       "│ 00:00:00  ┆ 04:00:00  ┆           ┆           ┆   ┆          ┆           ┆           ┆           │\n",
       "│ …         ┆ …         ┆ …         ┆ …         ┆ … ┆ …        ┆ …         ┆ …         ┆ …         │\n",
       "│ 2024-09-0 ┆ 2024-09-0 ┆ 0.91288   ┆ 0.9101    ┆ … ┆ -64.87   ┆ -0.005134 ┆ IS        ┆ -0.001586 │\n",
       "│ 3         ┆ 3         ┆           ┆           ┆   ┆          ┆           ┆           ┆           │\n",
       "│ 16:00:00  ┆ 20:00:00  ┆           ┆           ┆   ┆          ┆           ┆           ┆           │\n",
       "│ 2024-09-0 ┆ 2024-09-0 ┆ 0.90754   ┆ 0.90904   ┆ … ┆ -54.09   ┆ -0.004281 ┆ IS        ┆ 0.000858  │\n",
       "│ 4         ┆ 4         ┆           ┆           ┆   ┆          ┆           ┆           ┆           │\n",
       "│ 08:00:00  ┆ 12:00:00  ┆           ┆           ┆   ┆          ┆           ┆           ┆           │\n",
       "│ 2024-09-0 ┆ 2024-09-0 ┆ 0.90269   ┆ 0.90365   ┆ … ┆ -47.19   ┆ -0.003735 ┆ IS        ┆ 0.000548  │\n",
       "│ 9         ┆ 9         ┆           ┆           ┆   ┆          ┆           ┆           ┆           │\n",
       "│ 16:00:00  ┆ 20:00:00  ┆           ┆           ┆   ┆          ┆           ┆           ┆           │\n",
       "│ 2024-09-1 ┆ 2024-09-1 ┆ 0.91138   ┆ 0.9129    ┆ … ┆ -36.27   ┆ -0.002871 ┆ IS        ┆ 0.000868  │\n",
       "│ 6         ┆ 6         ┆           ┆           ┆   ┆          ┆           ┆           ┆           │\n",
       "│ 04:00:00  ┆ 08:00:00  ┆           ┆           ┆   ┆          ┆           ┆           ┆           │\n",
       "│ 2024-09-2 ┆ 2024-09-2 ┆ 0.92171   ┆ 0.92421   ┆ … ┆ -18.31   ┆ -0.001449 ┆ IS        ┆ 0.001426  │\n",
       "│ 3         ┆ 3         ┆           ┆           ┆   ┆          ┆           ┆           ┆           │\n",
       "│ 00:00:00  ┆ 04:00:00  ┆           ┆           ┆   ┆          ┆           ┆           ┆           │\n",
       "└───────────┴───────────┴───────────┴───────────┴───┴──────────┴───────────┴───────────┴───────────┘"
      ]
     },
     "execution_count": 28,
     "metadata": {},
     "output_type": "execute_result"
    }
   ],
   "source": [
    "df.with_columns(pl.col('Balance').pct_change().alias('pct'))"
   ]
  },
  {
   "cell_type": "code",
   "execution_count": 29,
   "metadata": {},
   "outputs": [],
   "source": [
    "import metrics \n",
    "df_is,df_oos=metrics.separate_df(df)"
   ]
  },
  {
   "cell_type": "code",
   "execution_count": 30,
   "metadata": {},
   "outputs": [
    {
     "data": {
      "text/html": [
       "<div><style>\n",
       ".dataframe > thead > tr,\n",
       ".dataframe > tbody > tr {\n",
       "  text-align: right;\n",
       "  white-space: pre-wrap;\n",
       "}\n",
       "</style>\n",
       "<small>shape: (11, 2)</small><table border=\"1\" class=\"dataframe\"><thead><tr><th>statistic</th><th>IS</th></tr><tr><td>str</td><td>str</td></tr></thead><tbody><tr><td>&quot;Nb trades&quot;</td><td>&quot;832&quot;</td></tr><tr><td>&quot;Total profit&quot;</td><td>&quot;2567.38&quot;</td></tr><tr><td>&quot;Sharpe IS&quot;</td><td>&quot;0.27&quot;</td></tr><tr><td>&quot;PF&quot;</td><td>&quot;2.05&quot;</td></tr><tr><td>&quot;Win Rate&quot;</td><td>&quot;62.74%&quot;</td></tr><tr><td>&hellip;</td><td>&hellip;</td></tr><tr><td>&quot;Drawdown Max&quot;</td><td>&quot;180.39 $&quot;</td></tr><tr><td>&quot;Return/DD ratio&quot;</td><td>&quot;14.23&quot;</td></tr><tr><td>&quot;Daily AVG Profit&quot;</td><td>&quot;4.81 $&quot;</td></tr><tr><td>&quot;Monthly AVG Profit&quot;</td><td>&quot;53.49 $&quot;</td></tr><tr><td>&quot;Year AVG Profit&quot;</td><td>&quot;513.48 $&quot;</td></tr></tbody></table></div>"
      ],
      "text/plain": [
       "shape: (11, 2)\n",
       "┌────────────────────┬──────────┐\n",
       "│ statistic          ┆ IS       │\n",
       "│ ---                ┆ ---      │\n",
       "│ str                ┆ str      │\n",
       "╞════════════════════╪══════════╡\n",
       "│ Nb trades          ┆ 832      │\n",
       "│ Total profit       ┆ 2567.38  │\n",
       "│ Sharpe IS          ┆ 0.27     │\n",
       "│ PF                 ┆ 2.05     │\n",
       "│ Win Rate           ┆ 62.74%   │\n",
       "│ …                  ┆ …        │\n",
       "│ Drawdown Max       ┆ 180.39 $ │\n",
       "│ Return/DD ratio    ┆ 14.23    │\n",
       "│ Daily AVG Profit   ┆ 4.81 $   │\n",
       "│ Monthly AVG Profit ┆ 53.49 $  │\n",
       "│ Year AVG Profit    ┆ 513.48 $ │\n",
       "└────────────────────┴──────────┘"
      ]
     },
     "execution_count": 30,
     "metadata": {},
     "output_type": "execute_result"
    }
   ],
   "source": [
    "df1 = metrics.create_metrics(df_is,'IS')\n",
    "df1"
   ]
  },
  {
   "cell_type": "code",
   "execution_count": 31,
   "metadata": {},
   "outputs": [
    {
     "data": {
      "text/html": [
       "<div><style>\n",
       ".dataframe > thead > tr,\n",
       ".dataframe > tbody > tr {\n",
       "  text-align: right;\n",
       "  white-space: pre-wrap;\n",
       "}\n",
       "</style>\n",
       "<small>shape: (11, 2)</small><table border=\"1\" class=\"dataframe\"><thead><tr><th>statistic</th><th>OOS</th></tr><tr><td>str</td><td>str</td></tr></thead><tbody><tr><td>&quot;Nb trades&quot;</td><td>&quot;21&quot;</td></tr><tr><td>&quot;Total profit&quot;</td><td>&quot;48.91&quot;</td></tr><tr><td>&quot;Sharpe IS&quot;</td><td>&quot;0.21&quot;</td></tr><tr><td>&quot;PF&quot;</td><td>&quot;1.86&quot;</td></tr><tr><td>&quot;Win Rate&quot;</td><td>&quot;61.90%&quot;</td></tr><tr><td>&hellip;</td><td>&hellip;</td></tr><tr><td>&quot;Drawdown Max&quot;</td><td>&quot;31.23 $&quot;</td></tr><tr><td>&quot;Return/DD ratio&quot;</td><td>&quot;1.57&quot;</td></tr><tr><td>&quot;Daily AVG Profit&quot;</td><td>&quot;4.08 $&quot;</td></tr><tr><td>&quot;Monthly AVG Profit&quot;</td><td>&quot;48.91 $&quot;</td></tr><tr><td>&quot;Year AVG Profit&quot;</td><td>&quot;48.91 $&quot;</td></tr></tbody></table></div>"
      ],
      "text/plain": [
       "shape: (11, 2)\n",
       "┌────────────────────┬─────────┐\n",
       "│ statistic          ┆ OOS     │\n",
       "│ ---                ┆ ---     │\n",
       "│ str                ┆ str     │\n",
       "╞════════════════════╪═════════╡\n",
       "│ Nb trades          ┆ 21      │\n",
       "│ Total profit       ┆ 48.91   │\n",
       "│ Sharpe IS          ┆ 0.21    │\n",
       "│ PF                 ┆ 1.86    │\n",
       "│ Win Rate           ┆ 61.90%  │\n",
       "│ …                  ┆ …       │\n",
       "│ Drawdown Max       ┆ 31.23 $ │\n",
       "│ Return/DD ratio    ┆ 1.57    │\n",
       "│ Daily AVG Profit   ┆ 4.08 $  │\n",
       "│ Monthly AVG Profit ┆ 48.91 $ │\n",
       "│ Year AVG Profit    ┆ 48.91 $ │\n",
       "└────────────────────┴─────────┘"
      ]
     },
     "execution_count": 31,
     "metadata": {},
     "output_type": "execute_result"
    }
   ],
   "source": [
    "df2 = metrics.create_metrics(df_oos,'OOS')\n",
    "df2"
   ]
  },
  {
   "cell_type": "code",
   "execution_count": 32,
   "metadata": {},
   "outputs": [
    {
     "data": {
      "text/html": [
       "<div><style>\n",
       ".dataframe > thead > tr,\n",
       ".dataframe > tbody > tr {\n",
       "  text-align: right;\n",
       "  white-space: pre-wrap;\n",
       "}\n",
       "</style>\n",
       "<small>shape: (11, 2)</small><table border=\"1\" class=\"dataframe\"><thead><tr><th>statistic</th><th>IS_OOS</th></tr><tr><td>str</td><td>str</td></tr></thead><tbody><tr><td>&quot;Nb trades&quot;</td><td>&quot;853&quot;</td></tr><tr><td>&quot;Total profit&quot;</td><td>&quot;2616.29&quot;</td></tr><tr><td>&quot;Sharpe IS&quot;</td><td>&quot;0.26&quot;</td></tr><tr><td>&quot;PF&quot;</td><td>&quot;2.04&quot;</td></tr><tr><td>&quot;Win Rate&quot;</td><td>&quot;62.72%&quot;</td></tr><tr><td>&hellip;</td><td>&hellip;</td></tr><tr><td>&quot;Drawdown Max&quot;</td><td>&quot;180.39 $&quot;</td></tr><tr><td>&quot;Return/DD ratio&quot;</td><td>&quot;14.50&quot;</td></tr><tr><td>&quot;Daily AVG Profit&quot;</td><td>&quot;4.79 $&quot;</td></tr><tr><td>&quot;Monthly AVG Profit&quot;</td><td>&quot;54.51 $&quot;</td></tr><tr><td>&quot;Year AVG Profit&quot;</td><td>&quot;523.26 $&quot;</td></tr></tbody></table></div>"
      ],
      "text/plain": [
       "shape: (11, 2)\n",
       "┌────────────────────┬──────────┐\n",
       "│ statistic          ┆ IS_OOS   │\n",
       "│ ---                ┆ ---      │\n",
       "│ str                ┆ str      │\n",
       "╞════════════════════╪══════════╡\n",
       "│ Nb trades          ┆ 853      │\n",
       "│ Total profit       ┆ 2616.29  │\n",
       "│ Sharpe IS          ┆ 0.26     │\n",
       "│ PF                 ┆ 2.04     │\n",
       "│ Win Rate           ┆ 62.72%   │\n",
       "│ …                  ┆ …        │\n",
       "│ Drawdown Max       ┆ 180.39 $ │\n",
       "│ Return/DD ratio    ┆ 14.50    │\n",
       "│ Daily AVG Profit   ┆ 4.79 $   │\n",
       "│ Monthly AVG Profit ┆ 54.51 $  │\n",
       "│ Year AVG Profit    ┆ 523.26 $ │\n",
       "└────────────────────┴──────────┘"
      ]
     },
     "execution_count": 32,
     "metadata": {},
     "output_type": "execute_result"
    }
   ],
   "source": [
    "df3 = metrics.create_metrics(df)\n",
    "df3"
   ]
  },
  {
   "cell_type": "code",
   "execution_count": 50,
   "metadata": {},
   "outputs": [
    {
     "data": {
      "text/html": [
       "<div><style>\n",
       ".dataframe > thead > tr,\n",
       ".dataframe > tbody > tr {\n",
       "  text-align: right;\n",
       "  white-space: pre-wrap;\n",
       "}\n",
       "</style>\n",
       "<small>shape: (11, 4)</small><table border=\"1\" class=\"dataframe\"><thead><tr><th>statistic</th><th>IS</th><th>OOS</th><th>IS_OOS</th></tr><tr><td>str</td><td>str</td><td>str</td><td>str</td></tr></thead><tbody><tr><td>&quot;Nb trades&quot;</td><td>&quot;832&quot;</td><td>&quot;21&quot;</td><td>&quot;853&quot;</td></tr><tr><td>&quot;Total profit&quot;</td><td>&quot;2567.38&quot;</td><td>&quot;48.91&quot;</td><td>&quot;2616.29&quot;</td></tr><tr><td>&quot;Sharpe IS&quot;</td><td>&quot;0.27&quot;</td><td>&quot;0.21&quot;</td><td>&quot;0.26&quot;</td></tr><tr><td>&quot;PF&quot;</td><td>&quot;2.05&quot;</td><td>&quot;1.86&quot;</td><td>&quot;2.04&quot;</td></tr><tr><td>&quot;Win Rate&quot;</td><td>&quot;62.74%&quot;</td><td>&quot;61.90%&quot;</td><td>&quot;62.72%&quot;</td></tr><tr><td>&hellip;</td><td>&hellip;</td><td>&hellip;</td><td>&hellip;</td></tr><tr><td>&quot;Drawdown Max&quot;</td><td>&quot;180.39 $&quot;</td><td>&quot;31.23 $&quot;</td><td>&quot;180.39 $&quot;</td></tr><tr><td>&quot;Return/DD ratio&quot;</td><td>&quot;14.23&quot;</td><td>&quot;1.57&quot;</td><td>&quot;14.50&quot;</td></tr><tr><td>&quot;Daily AVG Profit&quot;</td><td>&quot;4.81 $&quot;</td><td>&quot;4.08 $&quot;</td><td>&quot;4.79 $&quot;</td></tr><tr><td>&quot;Monthly AVG Profit&quot;</td><td>&quot;53.49 $&quot;</td><td>&quot;48.91 $&quot;</td><td>&quot;54.51 $&quot;</td></tr><tr><td>&quot;Year AVG Profit&quot;</td><td>&quot;513.48 $&quot;</td><td>&quot;48.91 $&quot;</td><td>&quot;523.26 $&quot;</td></tr></tbody></table></div>"
      ],
      "text/plain": [
       "shape: (11, 4)\n",
       "┌────────────────────┬──────────┬─────────┬──────────┐\n",
       "│ statistic          ┆ IS       ┆ OOS     ┆ IS_OOS   │\n",
       "│ ---                ┆ ---      ┆ ---     ┆ ---      │\n",
       "│ str                ┆ str      ┆ str     ┆ str      │\n",
       "╞════════════════════╪══════════╪═════════╪══════════╡\n",
       "│ Nb trades          ┆ 832      ┆ 21      ┆ 853      │\n",
       "│ Total profit       ┆ 2567.38  ┆ 48.91   ┆ 2616.29  │\n",
       "│ Sharpe IS          ┆ 0.27     ┆ 0.21    ┆ 0.26     │\n",
       "│ PF                 ┆ 2.05     ┆ 1.86    ┆ 2.04     │\n",
       "│ Win Rate           ┆ 62.74%   ┆ 61.90%  ┆ 62.72%   │\n",
       "│ …                  ┆ …        ┆ …       ┆ …        │\n",
       "│ Drawdown Max       ┆ 180.39 $ ┆ 31.23 $ ┆ 180.39 $ │\n",
       "│ Return/DD ratio    ┆ 14.23    ┆ 1.57    ┆ 14.50    │\n",
       "│ Daily AVG Profit   ┆ 4.81 $   ┆ 4.08 $  ┆ 4.79 $   │\n",
       "│ Monthly AVG Profit ┆ 53.49 $  ┆ 48.91 $ ┆ 54.51 $  │\n",
       "│ Year AVG Profit    ┆ 513.48 $ ┆ 48.91 $ ┆ 523.26 $ │\n",
       "└────────────────────┴──────────┴─────────┴──────────┘"
      ]
     },
     "execution_count": 50,
     "metadata": {},
     "output_type": "execute_result"
    }
   ],
   "source": [
    "df1.join(df2,on='statistic').join(df3,on='statistic')"
   ]
  },
  {
   "cell_type": "code",
   "execution_count": null,
   "metadata": {},
   "outputs": [],
   "source": []
  },
  {
   "cell_type": "code",
   "execution_count": 256,
   "metadata": {},
   "outputs": [
    {
     "name": "stdout",
     "output_type": "stream",
     "text": [
      "shape: (5, 2)\n",
      "┌─────┬──────────┐\n",
      "│ day ┆ Profit   │\n",
      "│ --- ┆ ---      │\n",
      "│ i8  ┆ f64      │\n",
      "╞═════╪══════════╡\n",
      "│ 31  ┆ 5.286429 │\n",
      "│ 17  ┆ 3.5192   │\n",
      "│ 24  ┆ 1.55375  │\n",
      "│ 7   ┆ 5.534545 │\n",
      "│ 12  ┆ 1.164242 │\n",
      "└─────┴──────────┘\n",
      "None\n"
     ]
    }
   ],
   "source": [
    "\n",
    "def weekday_mean_profit(df,name_short=False):\n",
    "    DAYS_FULL=['Monday', 'Tuesday', 'Wednesday', 'Thursday', 'Friday', 'Saturday', 'Sunday']\n",
    "    DAYS_SHORT=['Mon', 'Tue', 'Wed', 'Thu', 'Fri', 'Sat', 'Sun']\n",
    "    all_weekdays = pl.DataFrame({\n",
    "        'weekday': pl.Series(range(1, 8), dtype=pl.Int8)  # 0 a 6 para todos los días\n",
    "        })\n",
    "    # Tu código original para procesar el DataFrame\n",
    "    df_season = df.with_columns(\n",
    "        pl.col('CloseTime').dt.weekday().alias('weekday')\n",
    "        )\n",
    "\n",
    "    # Agrupación con promedio de Profit\n",
    "    df_wd_prof = df_season.group_by('weekday').agg(pl.col('Profit').mean())\n",
    "    if name_short:\n",
    "        DAYS_NAME= DAYS_FULL\n",
    "    else:\n",
    "        DAYS_NAME= DAYS_SHORT\n",
    "    # Unimos con todos los días y rellenamos los valores faltantes con 0 (o None si prefieres)\n",
    "    df_wd_prof_complete = (\n",
    "        all_weekdays\n",
    "        .join(df_wd_prof, on='weekday', how='left')\n",
    "        .with_columns(\n",
    "            pl.col('Profit').fill_null(0),  # Puedes cambiar 0 por None si prefieres\n",
    "            pl.col('weekday').replace_strict(\n",
    "                {i: day for i, day in enumerate(DAYS_NAME,start=1)},\n",
    "                default=\"unknown\"\n",
    "                ).alias('weekday_name')\n",
    "            )\n",
    "        .sort('weekday')\n",
    "    )\n",
    "    return df_wd_prof_complete\n",
    "\n",
    "def month_mean_profit(df,name_short=False):\n",
    "    MONTH_FULL= [\"January\", \"February\", \"March\", \"April\", \"May\", \"June\", \"July\", \"August\", \"September\", \"October\", \"November\", \"December\"]\n",
    "    MONTH_SHORT= [\"Jan\", \"Feb\", \"Mar\", \"Apr\", \"May\", \"Jun\", \"Jul\", \"Aug\", \"Sep\", \"Oct\", \"Nov\", \"Dec\"]\n",
    "    all_weekdays = pl.DataFrame({\n",
    "        'month': pl.Series(range(1, 13), dtype=pl.Int8)  # 0 a 6 para todos los días\n",
    "        })\n",
    "    # Tu código original para procesar el DataFrame\n",
    "    df_season = df.with_columns(\n",
    "        pl.col('CloseTime').dt.month().alias('month')\n",
    "        )\n",
    "    # Agrupación con promedio de Profit\n",
    "    df_wd_prof = df_season.group_by('month').agg(pl.col('Profit').mean())\n",
    "    # Unimos con todos los días y rellenamos los valores faltantes con 0 (o None si prefieres)\n",
    "    if name_short:\n",
    "        MONTH_NAME= MONTH_FULL\n",
    "    else:\n",
    "        MONTH_NAME= MONTH_SHORT\n",
    "    df_wd_prof_complete = (\n",
    "        all_weekdays\n",
    "        .join(df_wd_prof, on='month', how='left')\n",
    "        .with_columns(\n",
    "            pl.col('Profit').fill_null(0),  # Puedes cambiar 0 por None si prefieres\n",
    "            pl.col('month').replace_strict(\n",
    "                {i: day for i, day in enumerate(MONTH_NAME,start=1)},\n",
    "                default=\"unknown\"\n",
    "            ).alias('month_name')\n",
    "        )\n",
    "        .sort('month')\n",
    "    )\n",
    "\n",
    "    return df_wd_prof_complete\n",
    "def monthday_mean_profit(df):\n",
    "    # df.head()\n",
    "    #weekday number where monday = 1 and sunday = 7\n",
    "    df_season=df.with_columns(\n",
    "                    pl.col('CloseTime').dt.day().alias('day'),\n",
    "                    )\n",
    "\n",
    "    #Agrupo los profit por día de semana\n",
    "    df_wd_prof = df_season.group_by('day').agg(pl.col('Profit').mean())\n",
    "    print(df_wd_prof.head())\n",
    "    # cast al formato esperado\n",
    "    # df_wd_tmp=df_wd_tmp.cast({'day':pl.Int8})\n",
    "    #uno y obtengo el dia de la semana vs media de profits y ordenado\n",
    "\n",
    "    # df_wd_prof=df_wd_prof.merge_sorted(df_wd_tmp,key=\"day\").group_by('day').agg(pl.col('Profit').sum()).sort('day')\n",
    "\n",
    "#     return df_wd_prof\n",
    "# print(weekday_mean_profit(df,True))\n",
    "# print(month_mean_profit(df,True))\n",
    "print(monthday_mean_profit(df))\n",
    "\n"
   ]
  },
  {
   "cell_type": "code",
   "execution_count": null,
   "metadata": {},
   "outputs": [
    {
     "name": "stdout",
     "output_type": "stream",
     "text": [
      "shape: (12, 4)\n",
      "┌───────┬──────────┬──────────┬────────────┐\n",
      "│ month ┆ IS       ┆ OOS      ┆ month_name │\n",
      "│ ---   ┆ ---      ┆ ---      ┆ ---        │\n",
      "│ i8    ┆ f64      ┆ f64      ┆ str        │\n",
      "╞═══════╪══════════╪══════════╪════════════╡\n",
      "│ 1     ┆ 4.360938 ┆ 0.0      ┆ January    │\n",
      "│ 2     ┆ 2.795323 ┆ 0.0      ┆ February   │\n",
      "│ 3     ┆ 2.820933 ┆ 0.0      ┆ March      │\n",
      "│ 4     ┆ 0.984267 ┆ 0.0      ┆ April      │\n",
      "│ 5     ┆ 2.174051 ┆ 0.0      ┆ May        │\n",
      "│ …     ┆ …        ┆ …        ┆ …          │\n",
      "│ 8     ┆ 2.556709 ┆ 0.0      ┆ August     │\n",
      "│ 9     ┆ 1.751216 ┆ 0.0      ┆ September  │\n",
      "│ 10    ┆ 3.264237 ┆ 2.329048 ┆ October    │\n",
      "│ 11    ┆ 5.287681 ┆ 0.0      ┆ November   │\n",
      "│ 12    ┆ 6.328462 ┆ 0.0      ┆ December   │\n",
      "└───────┴──────────┴──────────┴────────────┘\n"
     ]
    }
   ],
   "source": [
    "MONTH_FULL= [\"January\", \"February\", \"March\", \"April\", \"May\", \"June\", \"July\", \"August\", \"September\", \"October\", \"November\", \"December\"]\n",
    "\n",
    "all_weekdays = pl.DataFrame({\n",
    "     'month': pl.Series(range(1, 13), dtype=pl.Int8)  # 0 a 6 para todos los días\n",
    "})\n",
    "\n",
    "# Tu código original para procesar el DataFrame\n",
    "df_season =df.with_columns(\n",
    "    pl.col('CloseTime').dt.month().alias('month')\n",
    ")\n",
    "\n",
    "# Agrupación con promedio de Profit\n",
    "df_wd_prof = df_season.group_by('month','Type_sample').agg(pl.col('Profit').mean())\n",
    "\n",
    "# Unimos con todos los días y rellenamos los valores faltantes con 0 (o None si prefieres)\n",
    "df_wd_prof = (\n",
    "    all_weekdays\n",
    "    .join(df_wd_prof, on='month', how='left')\n",
    "    .with_columns(\n",
    "        pl.col('Profit').fill_null(0),  # Puedes cambiar 0 por None si prefieres\n",
    "      \n",
    "    )\n",
    "    .sort('month')\n",
    ")\n",
    "df_wd_prof=df_wd_prof.pivot('Type_sample',index='month',values='Profit').fill_null(0)\n",
    "df_wd_prof=df_wd_prof.with_columns(pl.col('month').replace_strict(\n",
    "            {i: day for i, day in enumerate(MONTH_FULL,start=1)},\n",
    "            default=\"unknown\"\n",
    "        ).alias('month_name')\n",
    "                        )\n",
    "print(df_wd_prof)"
   ]
  },
  {
   "cell_type": "code",
   "execution_count": 228,
   "metadata": {},
   "outputs": [
    {
     "data": {
      "text/plain": [
       "['Monday', 'Tuesday', 'Wednesday', 'Thursday', 'Friday', 'Saturday', 'Sunday']"
      ]
     },
     "execution_count": 228,
     "metadata": {},
     "output_type": "execute_result"
    }
   ],
   "source": [
    "WEEK_DAYS"
   ]
  },
  {
   "cell_type": "code",
   "execution_count": 244,
   "metadata": {},
   "outputs": [],
   "source": [
    "# \n",
    "def fig_profit_weekday(df)->Figure:\n",
    "    df.with_columns\n",
    "    fig = px.bar(df, x=\"weekday_name\",y='Profit'\n",
    "                 ,labels={'Profit':\"Profits\", 'count':'Frec','Type_sample':\"Tipo\"}\n",
    "                   )\n",
    "    \n",
    "    fig.update_yaxes(title={'text':'Frec'})\n",
    "    \n",
    "        \n",
    "    return fig\n",
    "\n",
    "\n",
    "fig= fig_profit_weekday(weekday_mean_profit(df))\n",
    "fig.write_html('fig_profit_weekday.html', auto_open=True)"
   ]
  },
  {
   "cell_type": "code",
   "execution_count": null,
   "metadata": {},
   "outputs": [],
   "source": []
  }
 ],
 "metadata": {
  "kernelspec": {
   "display_name": "venv",
   "language": "python",
   "name": "python3"
  },
  "language_info": {
   "codemirror_mode": {
    "name": "ipython",
    "version": 3
   },
   "file_extension": ".py",
   "mimetype": "text/x-python",
   "name": "python",
   "nbconvert_exporter": "python",
   "pygments_lexer": "ipython3",
   "version": "3.12.5"
  }
 },
 "nbformat": 4,
 "nbformat_minor": 2
}
